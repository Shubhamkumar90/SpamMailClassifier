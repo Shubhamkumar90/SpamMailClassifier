{
 "cells": [
  {
   "cell_type": "code",
   "execution_count": 1,
   "metadata": {},
   "outputs": [],
   "source": [
    "from os import walk\n",
    "from os.path import join\n",
    "import pandas as pd\n",
    "import matplotlib.pyplot as plt\n",
    "import nltk\n",
    "from nltk.stem import PorterStemmer\n",
    "from nltk.corpus import stopwords\n",
    "from nltk.tokenize import word_tokenize\n",
    "from bs4 import BeautifulSoup\n",
    "from wordcloud import WordCloud\n",
    "from PIL import Image\n",
    "import numpy as np\n",
    "from sklearn.model_selection import train_test_split"
   ]
  },
  {
   "cell_type": "code",
   "execution_count": 2,
   "metadata": {},
   "outputs": [
    {
     "name": "stdout",
     "output_type": "stream",
     "text": [
      "Dear Mr Still\n",
      "Good tidings to you and all your staff for the festive season ahead (Christmas).\n",
      "Now to the crux of the matter-in-hand: I am a fully qualified Santa Claus and am wondering whether you might consider me to run my own \"Santa's Grotto\" in your store.\n",
      "But WAIT! You're probably thinking: \"What makes him so special?\"\n",
      "Well, first of all, I have made several changes to the characterisation of Father Christmas. Rather than greeting the children with shouts of \"Ho, ho, ho!\" I prefer to whisper the phrase \"Dependence is not unfathomable in this cruel world we live in\". In addition, my gifts are ALL hand-made, ranging from felt hoops to vanilla-pod holders.\n",
      "You will note also, from the enclosed sketch, that I have radically redesigned Santa's outfit and have renamed my character \"Lord Buckles\". Would you be interested in employing me? I promise NEVER to let you down.\n",
      "I look forward to hearing from you.\n",
      "Best wishes\n",
      "Robin Cooper\n",
      "[Excerpt from the book: The Timewaster Letters by Robin Cooper]\n",
      "\n"
     ]
    }
   ],
   "source": [
    "RELATIVE_PATH=\"SpamData/01_Processing/practice_email.txt\"\n",
    "SPAM_1_PATH=\"SpamData/01_Processing/spam_assassin_corpus/spam_1\"\n",
    "SPAM_2_PATH=\"SpamData/01_Processing/spam_assassin_corpus/spam_2\"\n",
    "EASY_NONSPAM_1_PATH=\"SpamData/01_Processing/spam_assassin_corpus/easy_ham_1\"\n",
    "EASY_NONSPAM_2_PATH=\"SpamData/01_Processing/spam_assassin_corpus/easy_ham_2\"\n",
    "DATA_JSON_FILE_PATH=\"SpamData/01_Processing/email-data.json\"\n",
    "WHALE_FILE=\"SpamData/01_Processing/wordcloud_resources/whale-icon.png\"\n",
    "SKULL_FILE=\"SpamData/01_Processing/wordcloud_resources/skull-icon.png\"\n",
    "THUMBS_UP_FILE=\"SpamData/01_Processing/wordcloud_resources/thumbs-up.png\"\n",
    "THUMBS_DOWN_FILE=\"SpamData/01_Processing/wordcloud_resources/thumbs-down.png\"\n",
    "CUSTOM_FONT_FILE=\"SpamData/01_Processing/wordcloud_resources/OpenSansCondensed-Bold.ttf\"\n",
    "WORD_ID_FILE=\"SpamData/01_Processing/word_id.csv\"\n",
    "TRAINING_DATA_FILE=\"SpamData/02_Training/train_data.txt\"\n",
    "TEST_DATA_FILE=\"SpamData/02_Training/test_data.txt\"\n",
    "VOCAB_SIZE=2500\n",
    "SPAM_CAT=1\n",
    "HAM_CAT=0\n",
    "is_body=False\n",
    "lines=[]\n",
    "with open(RELATIVE_PATH,\"r\",encoding=\"latin-1\") as file:\n",
    "    for line in file:\n",
    "        if is_body:\n",
    "            lines.append(line)\n",
    "        if line==\"\\n\":\n",
    "            is_body=True\n",
    "email_body=\"\\n\".join(lines).replace(\"\\n\\n\\n\",\"\\n\")\n",
    "print(email_body.replace(\"\\n\\n\",\"\\n\")[1:])"
   ]
  },
  {
   "attachments": {},
   "cell_type": "markdown",
   "metadata": {},
   "source": [
    "# Generator Function"
   ]
  },
  {
   "cell_type": "code",
   "execution_count": 3,
   "metadata": {},
   "outputs": [],
   "source": [
    "def email_body_generator(path):\n",
    "    for root,dirnames,filename in walk(path):\n",
    "        for file_name in filename:\n",
    "            filepath=join(root,file_name)\n",
    "            is_body=False\n",
    "            lines=[]\n",
    "            with open(filepath,\"r\",encoding=\"latin-1\") as file:\n",
    "                for line in file:\n",
    "                    if is_body:\n",
    "                        lines.append(line)\n",
    "                    if line==\"\\n\":\n",
    "                        is_body=True\n",
    "            email_body=\"\\n\".join(lines)\n",
    "            yield file_name,email_body"
   ]
  },
  {
   "cell_type": "code",
   "execution_count": 4,
   "metadata": {},
   "outputs": [],
   "source": [
    "def df_from_directory(path,classification):\n",
    "    rows=[]\n",
    "    rows_name=[]\n",
    "    for file,email_body in email_body_generator(path):\n",
    "        rows.append({\"MESSAGE\":email_body,\"CATEGORY\":classification})\n",
    "        rows_name.append(file)\n",
    "    # print(len(rows))\n",
    "    return pd.DataFrame(rows,index=rows_name)\n"
   ]
  },
  {
   "cell_type": "code",
   "execution_count": 5,
   "metadata": {},
   "outputs": [
    {
     "data": {
      "text/plain": [
       "(1898, 2)"
      ]
     },
     "execution_count": 5,
     "metadata": {},
     "output_type": "execute_result"
    }
   ],
   "source": [
    "spam_email=df_from_directory(SPAM_1_PATH,1)\n",
    "# spam_email=spam_email.append(df_from_directory(SPAM_2_PATH,1))\n",
    "spam_email=pd.concat((spam_email,df_from_directory(SPAM_2_PATH,1)),axis=0)\n",
    "spam_email.shape"
   ]
  },
  {
   "cell_type": "code",
   "execution_count": 6,
   "metadata": {},
   "outputs": [
    {
     "data": {
      "text/plain": [
       "(1898, 2)"
      ]
     },
     "execution_count": 6,
     "metadata": {},
     "output_type": "execute_result"
    }
   ],
   "source": [
    "spam_email.shape"
   ]
  },
  {
   "cell_type": "code",
   "execution_count": 7,
   "metadata": {},
   "outputs": [
    {
     "name": "stdout",
     "output_type": "stream",
     "text": [
      "(2501, 2)\n"
     ]
    },
    {
     "data": {
      "text/plain": [
       "(3901, 2)"
      ]
     },
     "execution_count": 7,
     "metadata": {},
     "output_type": "execute_result"
    }
   ],
   "source": [
    "ham_email=df_from_directory(EASY_NONSPAM_1_PATH,HAM_CAT)\n",
    "print(ham_email.shape)\n",
    "ham_email=pd.concat((ham_email,df_from_directory(EASY_NONSPAM_2_PATH,HAM_CAT)),axis=0)\n",
    "ham_email.shape"
   ]
  },
  {
   "cell_type": "code",
   "execution_count": 8,
   "metadata": {},
   "outputs": [
    {
     "name": "stdout",
     "output_type": "stream",
     "text": [
      "(5799, 2)\n"
     ]
    },
    {
     "data": {
      "text/html": [
       "<div>\n",
       "<style scoped>\n",
       "    .dataframe tbody tr th:only-of-type {\n",
       "        vertical-align: middle;\n",
       "    }\n",
       "\n",
       "    .dataframe tbody tr th {\n",
       "        vertical-align: top;\n",
       "    }\n",
       "\n",
       "    .dataframe thead th {\n",
       "        text-align: right;\n",
       "    }\n",
       "</style>\n",
       "<table border=\"1\" class=\"dataframe\">\n",
       "  <thead>\n",
       "    <tr style=\"text-align: right;\">\n",
       "      <th></th>\n",
       "      <th>MESSAGE</th>\n",
       "      <th>CATEGORY</th>\n",
       "    </tr>\n",
       "  </thead>\n",
       "  <tbody>\n",
       "    <tr>\n",
       "      <th>00001.7848dde101aa985090474a91ec93fcf0</th>\n",
       "      <td>&lt;!DOCTYPE HTML PUBLIC \"-//W3C//DTD HTML 4.0 Tr...</td>\n",
       "      <td>1</td>\n",
       "    </tr>\n",
       "    <tr>\n",
       "      <th>00002.d94f1b97e48ed3b553b3508d116e6a09</th>\n",
       "      <td>1) Fight The Risk of Cancer!\\n\\nhttp://www.adc...</td>\n",
       "      <td>1</td>\n",
       "    </tr>\n",
       "    <tr>\n",
       "      <th>00003.2ee33bc6eacdb11f38d052c44819ba6c</th>\n",
       "      <td>1) Fight The Risk of Cancer!\\n\\nhttp://www.adc...</td>\n",
       "      <td>1</td>\n",
       "    </tr>\n",
       "    <tr>\n",
       "      <th>00004.eac8de8d759b7e74154f142194282724</th>\n",
       "      <td>##############################################...</td>\n",
       "      <td>1</td>\n",
       "    </tr>\n",
       "    <tr>\n",
       "      <th>00005.57696a39d7d84318ce497886896bf90d</th>\n",
       "      <td>I thought you might like these:\\n\\n1) Slim Dow...</td>\n",
       "      <td>1</td>\n",
       "    </tr>\n",
       "  </tbody>\n",
       "</table>\n",
       "</div>"
      ],
      "text/plain": [
       "                                                                                  MESSAGE  \\\n",
       "00001.7848dde101aa985090474a91ec93fcf0  <!DOCTYPE HTML PUBLIC \"-//W3C//DTD HTML 4.0 Tr...   \n",
       "00002.d94f1b97e48ed3b553b3508d116e6a09  1) Fight The Risk of Cancer!\\n\\nhttp://www.adc...   \n",
       "00003.2ee33bc6eacdb11f38d052c44819ba6c  1) Fight The Risk of Cancer!\\n\\nhttp://www.adc...   \n",
       "00004.eac8de8d759b7e74154f142194282724  ##############################################...   \n",
       "00005.57696a39d7d84318ce497886896bf90d  I thought you might like these:\\n\\n1) Slim Dow...   \n",
       "\n",
       "                                        CATEGORY  \n",
       "00001.7848dde101aa985090474a91ec93fcf0         1  \n",
       "00002.d94f1b97e48ed3b553b3508d116e6a09         1  \n",
       "00003.2ee33bc6eacdb11f38d052c44819ba6c         1  \n",
       "00004.eac8de8d759b7e74154f142194282724         1  \n",
       "00005.57696a39d7d84318ce497886896bf90d         1  "
      ]
     },
     "execution_count": 8,
     "metadata": {},
     "output_type": "execute_result"
    }
   ],
   "source": [
    "data=pd.concat([spam_email,ham_email])\n",
    "print(data.shape)\n",
    "data.head()"
   ]
  },
  {
   "cell_type": "code",
   "execution_count": 9,
   "metadata": {},
   "outputs": [
    {
     "data": {
      "text/html": [
       "<div>\n",
       "<style scoped>\n",
       "    .dataframe tbody tr th:only-of-type {\n",
       "        vertical-align: middle;\n",
       "    }\n",
       "\n",
       "    .dataframe tbody tr th {\n",
       "        vertical-align: top;\n",
       "    }\n",
       "\n",
       "    .dataframe thead th {\n",
       "        text-align: right;\n",
       "    }\n",
       "</style>\n",
       "<table border=\"1\" class=\"dataframe\">\n",
       "  <thead>\n",
       "    <tr style=\"text-align: right;\">\n",
       "      <th></th>\n",
       "      <th>MESSAGE</th>\n",
       "      <th>CATEGORY</th>\n",
       "    </tr>\n",
       "  </thead>\n",
       "  <tbody>\n",
       "    <tr>\n",
       "      <th>01396.61983fbe6ec43f55fd44e30fce24ffa6</th>\n",
       "      <td>http://news.bbc.co.uk/1/hi/england/2515127.stm...</td>\n",
       "      <td>0</td>\n",
       "    </tr>\n",
       "    <tr>\n",
       "      <th>01397.9f9ef4c2a8dc012d80f2ce2d3473d3b7</th>\n",
       "      <td>&gt; &gt;-- be careful when using this one.) Also, t...</td>\n",
       "      <td>0</td>\n",
       "    </tr>\n",
       "    <tr>\n",
       "      <th>01398.169b51731fe569f42169ae8f948ec676</th>\n",
       "      <td>&gt;&gt;&gt;&gt;&gt; \"SM\" == Skip Montanaro &lt;skip@pobox.com&gt; ...</td>\n",
       "      <td>0</td>\n",
       "    </tr>\n",
       "    <tr>\n",
       "      <th>01399.ca6b00b7b341bbde9a9ea3dd6a7bf896</th>\n",
       "      <td>So then, \"Mark Hammond\" &lt;mhammond@skippinet.co...</td>\n",
       "      <td>0</td>\n",
       "    </tr>\n",
       "    <tr>\n",
       "      <th>01400.f897f0931e461e7b2e964d28e927c35e</th>\n",
       "      <td>Hi there,\\n\\n\\n\\nNow this is probably of no us...</td>\n",
       "      <td>0</td>\n",
       "    </tr>\n",
       "  </tbody>\n",
       "</table>\n",
       "</div>"
      ],
      "text/plain": [
       "                                                                                  MESSAGE  \\\n",
       "01396.61983fbe6ec43f55fd44e30fce24ffa6  http://news.bbc.co.uk/1/hi/england/2515127.stm...   \n",
       "01397.9f9ef4c2a8dc012d80f2ce2d3473d3b7  > >-- be careful when using this one.) Also, t...   \n",
       "01398.169b51731fe569f42169ae8f948ec676  >>>>> \"SM\" == Skip Montanaro <skip@pobox.com> ...   \n",
       "01399.ca6b00b7b341bbde9a9ea3dd6a7bf896  So then, \"Mark Hammond\" <mhammond@skippinet.co...   \n",
       "01400.f897f0931e461e7b2e964d28e927c35e  Hi there,\\n\\n\\n\\nNow this is probably of no us...   \n",
       "\n",
       "                                        CATEGORY  \n",
       "01396.61983fbe6ec43f55fd44e30fce24ffa6         0  \n",
       "01397.9f9ef4c2a8dc012d80f2ce2d3473d3b7         0  \n",
       "01398.169b51731fe569f42169ae8f948ec676         0  \n",
       "01399.ca6b00b7b341bbde9a9ea3dd6a7bf896         0  \n",
       "01400.f897f0931e461e7b2e964d28e927c35e         0  "
      ]
     },
     "execution_count": 9,
     "metadata": {},
     "output_type": "execute_result"
    }
   ],
   "source": [
    "data.tail()"
   ]
  },
  {
   "attachments": {},
   "cell_type": "markdown",
   "metadata": {},
   "source": [
    "# Data Cleaning"
   ]
  },
  {
   "cell_type": "code",
   "execution_count": 10,
   "metadata": {},
   "outputs": [
    {
     "data": {
      "text/plain": [
       "False"
      ]
     },
     "execution_count": 10,
     "metadata": {},
     "output_type": "execute_result"
    }
   ],
   "source": [
    "data.MESSAGE.isnull().values.any()"
   ]
  },
  {
   "cell_type": "code",
   "execution_count": 11,
   "metadata": {},
   "outputs": [
    {
     "data": {
      "text/plain": [
       "True"
      ]
     },
     "execution_count": 11,
     "metadata": {},
     "output_type": "execute_result"
    }
   ],
   "source": [
    "(data.MESSAGE.str.len()==0).any()"
   ]
  },
  {
   "cell_type": "code",
   "execution_count": 12,
   "metadata": {},
   "outputs": [
    {
     "data": {
      "text/plain": [
       "Index(['cmds', 'cmds', 'cmds'], dtype='object')"
      ]
     },
     "execution_count": 12,
     "metadata": {},
     "output_type": "execute_result"
    }
   ],
   "source": [
    "data[(data.MESSAGE.str.len()==0)].index"
   ]
  },
  {
   "cell_type": "code",
   "execution_count": 13,
   "metadata": {},
   "outputs": [],
   "source": [
    "data.drop([\"cmds\"],inplace=True)"
   ]
  },
  {
   "cell_type": "code",
   "execution_count": 14,
   "metadata": {},
   "outputs": [
    {
     "data": {
      "text/plain": [
       "Index([], dtype='object')"
      ]
     },
     "execution_count": 14,
     "metadata": {},
     "output_type": "execute_result"
    }
   ],
   "source": [
    "data[(data.MESSAGE.str.len()==0)].index"
   ]
  },
  {
   "cell_type": "code",
   "execution_count": 15,
   "metadata": {},
   "outputs": [
    {
     "data": {
      "text/plain": [
       "(5796, 2)"
      ]
     },
     "execution_count": 15,
     "metadata": {},
     "output_type": "execute_result"
    }
   ],
   "source": [
    "data.shape"
   ]
  },
  {
   "attachments": {},
   "cell_type": "markdown",
   "metadata": {},
   "source": [
    "### Adding Document id"
   ]
  },
  {
   "cell_type": "code",
   "execution_count": 16,
   "metadata": {},
   "outputs": [
    {
     "data": {
      "text/plain": [
       "00001.7848dde101aa985090474a91ec93fcf0       0\n",
       "00002.d94f1b97e48ed3b553b3508d116e6a09       1\n",
       "00003.2ee33bc6eacdb11f38d052c44819ba6c       2\n",
       "00004.eac8de8d759b7e74154f142194282724       3\n",
       "00005.57696a39d7d84318ce497886896bf90d       4\n",
       "                                          ... \n",
       "01396.61983fbe6ec43f55fd44e30fce24ffa6    5791\n",
       "01397.9f9ef4c2a8dc012d80f2ce2d3473d3b7    5792\n",
       "01398.169b51731fe569f42169ae8f948ec676    5793\n",
       "01399.ca6b00b7b341bbde9a9ea3dd6a7bf896    5794\n",
       "01400.f897f0931e461e7b2e964d28e927c35e    5795\n",
       "Name: DOC_ID, Length: 5796, dtype: int64"
      ]
     },
     "execution_count": 16,
     "metadata": {},
     "output_type": "execute_result"
    }
   ],
   "source": [
    "document_id=range(0,len(data.index))\n",
    "data[\"DOC_ID\"]=document_id\n",
    "data.DOC_ID"
   ]
  },
  {
   "cell_type": "code",
   "execution_count": 17,
   "metadata": {},
   "outputs": [
    {
     "data": {
      "text/html": [
       "<div>\n",
       "<style scoped>\n",
       "    .dataframe tbody tr th:only-of-type {\n",
       "        vertical-align: middle;\n",
       "    }\n",
       "\n",
       "    .dataframe tbody tr th {\n",
       "        vertical-align: top;\n",
       "    }\n",
       "\n",
       "    .dataframe thead th {\n",
       "        text-align: right;\n",
       "    }\n",
       "</style>\n",
       "<table border=\"1\" class=\"dataframe\">\n",
       "  <thead>\n",
       "    <tr style=\"text-align: right;\">\n",
       "      <th></th>\n",
       "      <th>MESSAGE</th>\n",
       "      <th>CATEGORY</th>\n",
       "      <th>FILE_NAME</th>\n",
       "    </tr>\n",
       "    <tr>\n",
       "      <th>DOC_ID</th>\n",
       "      <th></th>\n",
       "      <th></th>\n",
       "      <th></th>\n",
       "    </tr>\n",
       "  </thead>\n",
       "  <tbody>\n",
       "    <tr>\n",
       "      <th>0</th>\n",
       "      <td>&lt;!DOCTYPE HTML PUBLIC \"-//W3C//DTD HTML 4.0 Tr...</td>\n",
       "      <td>1</td>\n",
       "      <td>00001.7848dde101aa985090474a91ec93fcf0</td>\n",
       "    </tr>\n",
       "    <tr>\n",
       "      <th>1</th>\n",
       "      <td>1) Fight The Risk of Cancer!\\n\\nhttp://www.adc...</td>\n",
       "      <td>1</td>\n",
       "      <td>00002.d94f1b97e48ed3b553b3508d116e6a09</td>\n",
       "    </tr>\n",
       "    <tr>\n",
       "      <th>2</th>\n",
       "      <td>1) Fight The Risk of Cancer!\\n\\nhttp://www.adc...</td>\n",
       "      <td>1</td>\n",
       "      <td>00003.2ee33bc6eacdb11f38d052c44819ba6c</td>\n",
       "    </tr>\n",
       "    <tr>\n",
       "      <th>3</th>\n",
       "      <td>##############################################...</td>\n",
       "      <td>1</td>\n",
       "      <td>00004.eac8de8d759b7e74154f142194282724</td>\n",
       "    </tr>\n",
       "    <tr>\n",
       "      <th>4</th>\n",
       "      <td>I thought you might like these:\\n\\n1) Slim Dow...</td>\n",
       "      <td>1</td>\n",
       "      <td>00005.57696a39d7d84318ce497886896bf90d</td>\n",
       "    </tr>\n",
       "  </tbody>\n",
       "</table>\n",
       "</div>"
      ],
      "text/plain": [
       "                                                  MESSAGE  CATEGORY  \\\n",
       "DOC_ID                                                                \n",
       "0       <!DOCTYPE HTML PUBLIC \"-//W3C//DTD HTML 4.0 Tr...         1   \n",
       "1       1) Fight The Risk of Cancer!\\n\\nhttp://www.adc...         1   \n",
       "2       1) Fight The Risk of Cancer!\\n\\nhttp://www.adc...         1   \n",
       "3       ##############################################...         1   \n",
       "4       I thought you might like these:\\n\\n1) Slim Dow...         1   \n",
       "\n",
       "                                     FILE_NAME  \n",
       "DOC_ID                                          \n",
       "0       00001.7848dde101aa985090474a91ec93fcf0  \n",
       "1       00002.d94f1b97e48ed3b553b3508d116e6a09  \n",
       "2       00003.2ee33bc6eacdb11f38d052c44819ba6c  \n",
       "3       00004.eac8de8d759b7e74154f142194282724  \n",
       "4       00005.57696a39d7d84318ce497886896bf90d  "
      ]
     },
     "execution_count": 17,
     "metadata": {},
     "output_type": "execute_result"
    }
   ],
   "source": [
    "data[\"FILE_NAME\"]=data.index\n",
    "data=data.set_index(\"DOC_ID\")\n",
    "data.head()"
   ]
  },
  {
   "cell_type": "code",
   "execution_count": 18,
   "metadata": {},
   "outputs": [],
   "source": [
    "data.to_json(DATA_JSON_FILE_PATH)"
   ]
  },
  {
   "attachments": {},
   "cell_type": "markdown",
   "metadata": {},
   "source": [
    "## Pie Chart"
   ]
  },
  {
   "cell_type": "code",
   "execution_count": 19,
   "metadata": {},
   "outputs": [],
   "source": [
    "amount_of_spam=data.CATEGORY.value_counts()[1]\n",
    "amount_of_ham=data.CATEGORY.value_counts()[0]"
   ]
  },
  {
   "cell_type": "code",
   "execution_count": 20,
   "metadata": {},
   "outputs": [
    {
     "data": {
      "image/png": "[encoded data removed]",
      "text/plain": [
       "<Figure size 1000x600 with 1 Axes>"
      ]
     },
     "metadata": {},
     "output_type": "display_data"
    }
   ],
   "source": [
    "category_names=[\"Spam\",\"Legit Mail\"]\n",
    "sizes=[amount_of_spam,amount_of_ham]\n",
    "plt.figure(figsize=(10,6),dpi=100)\n",
    "plt.pie(sizes,labels=category_names,textprops={\"fontsize\":16},autopct=\"%1.1f%%\",explode=[0,0.1])\n",
    "plt.style.use(style=\"dark_background\")\n",
    "plt.show()"
   ]
  },
  {
   "cell_type": "code",
   "execution_count": 21,
   "metadata": {},
   "outputs": [
    {
     "data": {
      "image/png": "[encoded data removed]",
      "text/plain": [
       "<Figure size 1000x600 with 1 Axes>"
      ]
     },
     "metadata": {},
     "output_type": "display_data"
    }
   ],
   "source": [
    "category_names=[\"Spam\",\"Legit Mail\"]\n",
    "sizes=[amount_of_spam,amount_of_ham]\n",
    "plt.figure(figsize=(10,6),dpi=100)\n",
    "plt.pie(sizes,labels=category_names,textprops={\"fontsize\":16},autopct=\"%1.1f%%\",pctdistance=0.8)\n",
    "plt.style.use(style=\"classic\")\n",
    "centre_circle=plt.Circle((0,0),radius=0.6,fc=\"white\")\n",
    "plt.gca().add_artist(centre_circle)\n",
    "plt.show()"
   ]
  },
  {
   "attachments": {},
   "cell_type": "markdown",
   "metadata": {},
   "source": [
    "## Natural Language Processing"
   ]
  },
  {
   "attachments": {},
   "cell_type": "markdown",
   "metadata": {},
   "source": [
    "### Text Pre-Processing"
   ]
  },
  {
   "cell_type": "code",
   "execution_count": 22,
   "metadata": {},
   "outputs": [
    {
     "name": "stderr",
     "output_type": "stream",
     "text": [
      "[nltk_data] Downloading package punkt to\n",
      "[nltk_data]     C:\\Users\\Shubham\\AppData\\Roaming\\nltk_data...\n",
      "[nltk_data]   Package punkt is already up-to-date!\n"
     ]
    },
    {
     "data": {
      "text/plain": [
       "True"
      ]
     },
     "execution_count": 22,
     "metadata": {},
     "output_type": "execute_result"
    }
   ],
   "source": [
    "nltk.download(\"punkt\")"
   ]
  },
  {
   "cell_type": "code",
   "execution_count": 23,
   "metadata": {},
   "outputs": [
    {
     "name": "stderr",
     "output_type": "stream",
     "text": [
      "[nltk_data] Downloading package stopwords to\n",
      "[nltk_data]     C:\\Users\\Shubham\\AppData\\Roaming\\nltk_data...\n",
      "[nltk_data]   Package stopwords is already up-to-date!\n"
     ]
    },
    {
     "data": {
      "text/plain": [
       "True"
      ]
     },
     "execution_count": 23,
     "metadata": {},
     "output_type": "execute_result"
    }
   ],
   "source": [
    "nltk.download(\"stopwords\")"
   ]
  },
  {
   "cell_type": "code",
   "execution_count": 24,
   "metadata": {},
   "outputs": [
    {
     "name": "stdout",
     "output_type": "stream",
     "text": [
      "1) Fight The Risk of Cancer!\n",
      "\n",
      "http://www.adclick.ws/p.cfm?o=315&amp;s=pk007\n",
      "\n",
      "\n",
      "\n",
      "2) Slim Down - Guaranteed to lose 10-12 lbs in 30 days\n",
      "\n",
      "http://www.adclick.ws/p.cfm?o=249&amp;s=pk007\n",
      "\n",
      "\n",
      "\n",
      "3) Get the Child Support You Deserve - Free Legal Advice\n",
      "\n",
      "http://www.adclick.ws/p.cfm?o=245&amp;s=pk002\n",
      "\n",
      "\n",
      "\n",
      "4) Join the Web's Fastest Growing Singles Community\n",
      "\n",
      "http://www.adclick.ws/p.cfm?o=259&amp;s=pk007\n",
      "\n",
      "\n",
      "\n",
      "5) Start Your Private Photo Album Online!\n",
      "\n",
      "http://www.adclick.ws/p.cfm?o=283&amp;s=pk007\n",
      "\n",
      "\n",
      "\n",
      "Have a Wonderful Day,\n",
      "\n",
      "Offer Manager\n",
      "\n",
      "PrizeMama\n",
      "\n",
      "\n",
      "\n",
      "\n",
      "\n",
      "\n",
      "\n",
      "\n",
      "\n",
      "\n",
      "\n",
      "\n",
      "\n",
      "\n",
      "\n",
      "\n",
      "\n",
      "\n",
      "\n",
      "\n",
      "\n",
      "\n",
      "\n",
      "\n",
      "\n",
      "\n",
      "\n",
      "If you wish to leave this list please use the link below.\n",
      "\n",
      "http://www.qves.com/trim/?zzzz@spamassassin.taint.org%7C17%7C308417\n",
      "\n"
     ]
    }
   ],
   "source": [
    "soup=BeautifulSoup(data.at[2,\"MESSAGE\"],\"html.parser\")\n",
    "print(soup.prettify())"
   ]
  },
  {
   "cell_type": "code",
   "execution_count": 25,
   "metadata": {},
   "outputs": [
    {
     "data": {
      "text/plain": [
       "{'a',\n",
       " 'about',\n",
       " 'above',\n",
       " 'after',\n",
       " 'again',\n",
       " 'against',\n",
       " 'ain',\n",
       " 'all',\n",
       " 'am',\n",
       " 'an',\n",
       " 'and',\n",
       " 'any',\n",
       " 'are',\n",
       " 'aren',\n",
       " \"aren't\",\n",
       " 'as',\n",
       " 'at',\n",
       " 'be',\n",
       " 'because',\n",
       " 'been',\n",
       " 'before',\n",
       " 'being',\n",
       " 'below',\n",
       " 'between',\n",
       " 'both',\n",
       " 'but',\n",
       " 'by',\n",
       " 'can',\n",
       " 'couldn',\n",
       " \"couldn't\",\n",
       " 'd',\n",
       " 'did',\n",
       " 'didn',\n",
       " \"didn't\",\n",
       " 'do',\n",
       " 'does',\n",
       " 'doesn',\n",
       " \"doesn't\",\n",
       " 'doing',\n",
       " 'don',\n",
       " \"don't\",\n",
       " 'down',\n",
       " 'during',\n",
       " 'each',\n",
       " 'few',\n",
       " 'for',\n",
       " 'from',\n",
       " 'further',\n",
       " 'had',\n",
       " 'hadn',\n",
       " \"hadn't\",\n",
       " 'has',\n",
       " 'hasn',\n",
       " \"hasn't\",\n",
       " 'have',\n",
       " 'haven',\n",
       " \"haven't\",\n",
       " 'having',\n",
       " 'he',\n",
       " 'her',\n",
       " 'here',\n",
       " 'hers',\n",
       " 'herself',\n",
       " 'him',\n",
       " 'himself',\n",
       " 'his',\n",
       " 'how',\n",
       " 'i',\n",
       " 'if',\n",
       " 'in',\n",
       " 'into',\n",
       " 'is',\n",
       " 'isn',\n",
       " \"isn't\",\n",
       " 'it',\n",
       " \"it's\",\n",
       " 'its',\n",
       " 'itself',\n",
       " 'just',\n",
       " 'll',\n",
       " 'm',\n",
       " 'ma',\n",
       " 'me',\n",
       " 'mightn',\n",
       " \"mightn't\",\n",
       " 'more',\n",
       " 'most',\n",
       " 'mustn',\n",
       " \"mustn't\",\n",
       " 'my',\n",
       " 'myself',\n",
       " 'needn',\n",
       " \"needn't\",\n",
       " 'no',\n",
       " 'nor',\n",
       " 'not',\n",
       " 'now',\n",
       " 'o',\n",
       " 'of',\n",
       " 'off',\n",
       " 'on',\n",
       " 'once',\n",
       " 'only',\n",
       " 'or',\n",
       " 'other',\n",
       " 'our',\n",
       " 'ours',\n",
       " 'ourselves',\n",
       " 'out',\n",
       " 'over',\n",
       " 'own',\n",
       " 're',\n",
       " 's',\n",
       " 'same',\n",
       " 'shan',\n",
       " \"shan't\",\n",
       " 'she',\n",
       " \"she's\",\n",
       " 'should',\n",
       " \"should've\",\n",
       " 'shouldn',\n",
       " \"shouldn't\",\n",
       " 'so',\n",
       " 'some',\n",
       " 'such',\n",
       " 't',\n",
       " 'than',\n",
       " 'that',\n",
       " \"that'll\",\n",
       " 'the',\n",
       " 'their',\n",
       " 'theirs',\n",
       " 'them',\n",
       " 'themselves',\n",
       " 'then',\n",
       " 'there',\n",
       " 'these',\n",
       " 'they',\n",
       " 'this',\n",
       " 'those',\n",
       " 'through',\n",
       " 'to',\n",
       " 'too',\n",
       " 'under',\n",
       " 'until',\n",
       " 'up',\n",
       " 've',\n",
       " 'very',\n",
       " 'was',\n",
       " 'wasn',\n",
       " \"wasn't\",\n",
       " 'we',\n",
       " 'were',\n",
       " 'weren',\n",
       " \"weren't\",\n",
       " 'what',\n",
       " 'when',\n",
       " 'where',\n",
       " 'which',\n",
       " 'while',\n",
       " 'who',\n",
       " 'whom',\n",
       " 'why',\n",
       " 'will',\n",
       " 'with',\n",
       " 'won',\n",
       " \"won't\",\n",
       " 'wouldn',\n",
       " \"wouldn't\",\n",
       " 'y',\n",
       " 'you',\n",
       " \"you'd\",\n",
       " \"you'll\",\n",
       " \"you're\",\n",
       " \"you've\",\n",
       " 'your',\n",
       " 'yours',\n",
       " 'yourself',\n",
       " 'yourselves'}"
      ]
     },
     "execution_count": 25,
     "metadata": {},
     "output_type": "execute_result"
    }
   ],
   "source": [
    "soup.getText()\n",
    "set(stopwords.words(\"english\"))"
   ]
  },
  {
   "cell_type": "code",
   "execution_count": 26,
   "metadata": {},
   "outputs": [],
   "source": [
    "# stop_word=stopwords.words(\"english\")\n",
    "def clean_message(message,stemmer=PorterStemmer(),stop_word=set(stopwords.words(\"english\"))):\n",
    "    words=word_tokenize(message.lower())\n",
    "    filtered_word=[]\n",
    "    for word in words:\n",
    "        if word not in stop_word and word.isalpha():\n",
    "            filtered_word.append(stemmer.stem(word))\n",
    "    return filtered_word"
   ]
  },
  {
   "cell_type": "code",
   "execution_count": 27,
   "metadata": {},
   "outputs": [
    {
     "data": {
      "text/plain": [
       "['dear',\n",
       " 'mr',\n",
       " 'still',\n",
       " 'good',\n",
       " 'tide',\n",
       " 'staff',\n",
       " 'festiv',\n",
       " 'season',\n",
       " 'ahead',\n",
       " 'christma',\n",
       " 'crux',\n",
       " 'fulli',\n",
       " 'qualifi',\n",
       " 'santa',\n",
       " 'clau',\n",
       " 'wonder',\n",
       " 'whether',\n",
       " 'might',\n",
       " 'consid',\n",
       " 'run',\n",
       " 'santa',\n",
       " 'grotto',\n",
       " 'store',\n",
       " 'wait',\n",
       " 'probabl',\n",
       " 'think',\n",
       " 'make',\n",
       " 'special',\n",
       " 'well',\n",
       " 'first',\n",
       " 'made',\n",
       " 'sever',\n",
       " 'chang',\n",
       " 'characteris',\n",
       " 'father',\n",
       " 'christma',\n",
       " 'rather',\n",
       " 'greet',\n",
       " 'children',\n",
       " 'shout',\n",
       " 'ho',\n",
       " 'ho',\n",
       " 'ho',\n",
       " 'prefer',\n",
       " 'whisper',\n",
       " 'phrase',\n",
       " 'depend',\n",
       " 'unfathom',\n",
       " 'cruel',\n",
       " 'world',\n",
       " 'live',\n",
       " 'addit',\n",
       " 'gift',\n",
       " 'rang',\n",
       " 'felt',\n",
       " 'hoop',\n",
       " 'holder',\n",
       " 'note',\n",
       " 'also',\n",
       " 'enclos',\n",
       " 'sketch',\n",
       " 'radic',\n",
       " 'redesign',\n",
       " 'santa',\n",
       " 'outfit',\n",
       " 'renam',\n",
       " 'charact',\n",
       " 'lord',\n",
       " 'buckl',\n",
       " 'would',\n",
       " 'interest',\n",
       " 'employ',\n",
       " 'promis',\n",
       " 'never',\n",
       " 'let',\n",
       " 'look',\n",
       " 'forward',\n",
       " 'hear',\n",
       " 'best',\n",
       " 'wish',\n",
       " 'robin',\n",
       " 'cooper',\n",
       " 'excerpt',\n",
       " 'book',\n",
       " 'timewast',\n",
       " 'letter',\n",
       " 'robin',\n",
       " 'cooper']"
      ]
     },
     "execution_count": 27,
     "metadata": {},
     "output_type": "execute_result"
    }
   ],
   "source": [
    "clean_message(email_body)"
   ]
  },
  {
   "cell_type": "code",
   "execution_count": 28,
   "metadata": {},
   "outputs": [],
   "source": [
    "# stop_word=stopwords.words(\"english\")\n",
    "def clean_msg_no_html(message,stemmer=PorterStemmer(),stop_word=set(stopwords.words(\"english\"))):\n",
    "    soup=BeautifulSoup(message,\"html.parser\")\n",
    "    message=soup.getText()\n",
    "    words=word_tokenize(message.lower())\n",
    "    filtered_word=[]\n",
    "    for word in words:\n",
    "        if word not in stop_word and word.isalpha():\n",
    "            filtered_word.append(stemmer.stem(word))\n",
    "    return filtered_word"
   ]
  },
  {
   "cell_type": "code",
   "execution_count": 29,
   "metadata": {},
   "outputs": [
    {
     "data": {
      "text/plain": [
       "['fight',\n",
       " 'risk',\n",
       " 'cancer',\n",
       " 'http',\n",
       " 'slim',\n",
       " 'guarante',\n",
       " 'lose',\n",
       " 'lb',\n",
       " 'day',\n",
       " 'http',\n",
       " 'get',\n",
       " 'child',\n",
       " 'support',\n",
       " 'deserv',\n",
       " 'free',\n",
       " 'legal',\n",
       " 'advic',\n",
       " 'http',\n",
       " 'join',\n",
       " 'web',\n",
       " 'fastest',\n",
       " 'grow',\n",
       " 'singl',\n",
       " 'commun',\n",
       " 'http',\n",
       " 'start',\n",
       " 'privat',\n",
       " 'photo',\n",
       " 'album',\n",
       " 'onlin',\n",
       " 'http',\n",
       " 'wonder',\n",
       " 'day',\n",
       " 'offer',\n",
       " 'manag',\n",
       " 'prizemama',\n",
       " 'wish',\n",
       " 'leav',\n",
       " 'list',\n",
       " 'pleas',\n",
       " 'use',\n",
       " 'link',\n",
       " 'http',\n",
       " 'zzzz']"
      ]
     },
     "execution_count": 29,
     "metadata": {},
     "output_type": "execute_result"
    }
   ],
   "source": [
    "clean_message(data.at[2,\"MESSAGE\"])"
   ]
  },
  {
   "cell_type": "code",
   "execution_count": 30,
   "metadata": {},
   "outputs": [],
   "source": [
    "# first_emails=data.MESSAGE.iloc[0:3]\n",
    "# nested_list=first_emails.apply(clean_message)"
   ]
  },
  {
   "cell_type": "code",
   "execution_count": 31,
   "metadata": {},
   "outputs": [],
   "source": [
    "# flat_list=[item for sublist in nested_list for item in sublist]\n",
    "# len(flat_list)"
   ]
  },
  {
   "cell_type": "code",
   "execution_count": 32,
   "metadata": {},
   "outputs": [
    {
     "name": "stderr",
     "output_type": "stream",
     "text": [
      "c:\\Users\\Shubham\\AppData\\Local\\Programs\\Python\\Python39\\lib\\site-packages\\bs4\\__init__.py:435: MarkupResemblesLocatorWarning: The input looks more like a filename than markup. You may want to open this file and pass the filehandle into Beautiful Soup.\n",
      "  warnings.warn(\n",
      "c:\\Users\\Shubham\\AppData\\Local\\Programs\\Python\\Python39\\lib\\site-packages\\bs4\\__init__.py:404: MarkupResemblesLocatorWarning: The input looks more like a URL than markup. You may want to use an HTTP client like requests to get the document behind the URL, and feed that document to Beautiful Soup.\n",
      "  warnings.warn(\n"
     ]
    }
   ],
   "source": [
    "nested_list=data.MESSAGE.apply(clean_msg_no_html)"
   ]
  },
  {
   "cell_type": "code",
   "execution_count": 33,
   "metadata": {},
   "outputs": [
    {
     "data": {
      "text/plain": [
       "DOC_ID\n",
       "5791    [http, bizarr, collect, stuf, anim, could, fet...\n",
       "5792    [care, use, one, also, realli, cute, thing, ja...\n",
       "5793    [sm, skip, montanaro, write, jeremi, put, anot...\n",
       "5794    [mark, hammond, like, given, zodb, sound, attr...\n",
       "5795    [hi, probabl, use, whatsoev, also, problem, re...\n",
       "Name: MESSAGE, dtype: object"
      ]
     },
     "execution_count": 33,
     "metadata": {},
     "output_type": "execute_result"
    }
   ],
   "source": [
    "nested_list.tail()"
   ]
  },
  {
   "cell_type": "code",
   "execution_count": 34,
   "metadata": {},
   "outputs": [
    {
     "data": {
      "text/plain": [
       "Int64Index([1896, 1897, 1898, 1899, 1900, 1901, 1902, 1903, 1904, 1905,\n",
       "            ...\n",
       "            5786, 5787, 5788, 5789, 5790, 5791, 5792, 5793, 5794, 5795],\n",
       "           dtype='int64', name='DOC_ID', length=3900)"
      ]
     },
     "execution_count": 34,
     "metadata": {},
     "output_type": "execute_result"
    }
   ],
   "source": [
    "doc_id_spam=data[data.CATEGORY==1].index\n",
    "doc_id_ham=data[data.CATEGORY==0].index\n",
    "doc_id_ham"
   ]
  },
  {
   "cell_type": "code",
   "execution_count": 35,
   "metadata": {},
   "outputs": [
    {
     "data": {
      "text/plain": [
       "DOC_ID\n",
       "0       [save, life, insur, spend, life, quot, save, g...\n",
       "1       [fight, risk, cancer, http, slim, guarante, lo...\n",
       "2       [fight, risk, cancer, http, slim, guarante, lo...\n",
       "3       [adult, club, offer, free, membership, instant...\n",
       "4       [thought, might, like, slim, guarante, lose, l...\n",
       "                              ...                        \n",
       "1891    [want, boss, train, home, studi, thousand, peo...\n",
       "1892    [messag, mime, format, prefer, doctor, order, ...\n",
       "1893    [dear, subscrib, could, show, way, get, visito...\n",
       "1894    [custom, appreci, sale, express, appreci, loya...\n",
       "1895    [attn, strictli, confidenti, pleas, introduc, ...\n",
       "Name: MESSAGE, Length: 1896, dtype: object"
      ]
     },
     "execution_count": 35,
     "metadata": {},
     "output_type": "execute_result"
    }
   ],
   "source": [
    "nested_list_ham=nested_list.loc[doc_id_ham]\n",
    "nested_list_spam=nested_list.loc[doc_id_spam]\n",
    "# nested_list_ham.shape\n",
    "nested_list_spam"
   ]
  },
  {
   "cell_type": "code",
   "execution_count": 36,
   "metadata": {},
   "outputs": [
    {
     "data": {
      "text/plain": [
       "20815"
      ]
     },
     "execution_count": 36,
     "metadata": {},
     "output_type": "execute_result"
    }
   ],
   "source": [
    "# sum([len(sublist) for sublist in nested_list_ham])\n",
    "flat_list_ham=[item for sublist in nested_list_ham for item in sublist]\n",
    "normal_word=pd.Series(flat_list_ham).value_counts()\n",
    "normal_word.shape[0]"
   ]
  },
  {
   "cell_type": "code",
   "execution_count": 37,
   "metadata": {},
   "outputs": [
    {
     "data": {
      "text/plain": [
       "http      7563\n",
       "use       3633\n",
       "list      2880\n",
       "one       2373\n",
       "get       2286\n",
       "mail      2255\n",
       "would     2003\n",
       "like      1931\n",
       "messag    1849\n",
       "work      1800\n",
       "dtype: int64"
      ]
     },
     "execution_count": 37,
     "metadata": {},
     "output_type": "execute_result"
    }
   ],
   "source": [
    "# sum([len(sublist) for sublist in nested_list_spam])\n",
    "normal_word[:10]"
   ]
  },
  {
   "cell_type": "code",
   "execution_count": 38,
   "metadata": {},
   "outputs": [
    {
     "data": {
      "text/plain": [
       "13242"
      ]
     },
     "execution_count": 38,
     "metadata": {},
     "output_type": "execute_result"
    }
   ],
   "source": [
    "flat_list_spam=[item for sublist in nested_list_spam for item in sublist]\n",
    "spam_word=pd.Series(flat_list_spam).value_counts()\n",
    "spam_word.shape[0]"
   ]
  },
  {
   "cell_type": "code",
   "execution_count": 39,
   "metadata": {},
   "outputs": [
    {
     "data": {
      "text/plain": [
       "http      3097\n",
       "email     3090\n",
       "free      2585\n",
       "click     2058\n",
       "receiv    1989\n",
       "list      1971\n",
       "get       1914\n",
       "pleas     1852\n",
       "busi      1792\n",
       "order     1746\n",
       "dtype: int64"
      ]
     },
     "execution_count": 39,
     "metadata": {},
     "output_type": "execute_result"
    }
   ],
   "source": [
    "spam_word[:10]"
   ]
  },
  {
   "attachments": {},
   "cell_type": "markdown",
   "metadata": {},
   "source": [
    "## Creating Word Cloud"
   ]
  },
  {
   "cell_type": "code",
   "execution_count": 40,
   "metadata": {},
   "outputs": [
    {
     "data": {
      "text/plain": [
       "<matplotlib.image.AxesImage at 0x21c37418fd0>"
      ]
     },
     "execution_count": 40,
     "metadata": {},
     "output_type": "execute_result"
    },
    {
     "data": {
      "image/png": "[encoded data removed]",
      "text/plain": [
       "<Figure size 640x480 with 1 Axes>"
      ]
     },
     "metadata": {},
     "output_type": "display_data"
    }
   ],
   "source": [
    "word_cloud=WordCloud().generate(email_body)\n",
    "plt.axis(\"off\")\n",
    "plt.imshow(word_cloud,interpolation=\"bilinear\")"
   ]
  },
  {
   "cell_type": "code",
   "execution_count": 41,
   "metadata": {},
   "outputs": [
    {
     "data": {
      "text/plain": [
       "<matplotlib.image.AxesImage at 0x21c38ea7e20>"
      ]
     },
     "execution_count": 41,
     "metadata": {},
     "output_type": "execute_result"
    },
    {
     "data": {
      "image/png": "[encoded data removed]",
      "text/plain": [
       "<Figure size 640x480 with 1 Axes>"
      ]
     },
     "metadata": {},
     "output_type": "display_data"
    }
   ],
   "source": [
    "example_corpus=nltk.corpus.gutenberg.words(\"melville-moby_dick.txt\")\n",
    "word_list=[''.join(word) for word in example_corpus]\n",
    "novel_as_string=' '.join(word_list)\n",
    "icon=Image.open(WHALE_FILE)\n",
    "image_mask=Image.new(mode=\"RGB\",size=icon.size,color=(255,255,255))\n",
    "image_mask.paste(icon,box=icon)\n",
    "rgb_array=np.array(image_mask)\n",
    "word_cloud=WordCloud(mask=rgb_array,max_words=200).generate(novel_as_string)\n",
    "plt.axis(\"off\")\n",
    "plt.imshow(word_cloud)"
   ]
  },
  {
   "cell_type": "code",
   "execution_count": 42,
   "metadata": {},
   "outputs": [
    {
     "data": {
      "text/plain": [
       "<matplotlib.image.AxesImage at 0x21c3900ae20>"
      ]
     },
     "execution_count": 42,
     "metadata": {},
     "output_type": "execute_result"
    },
    {
     "data": {
      "image/png": "[encoded data removed]",
      "text/plain": [
       "<Figure size 1280x640 with 1 Axes>"
      ]
     },
     "metadata": {},
     "output_type": "display_data"
    }
   ],
   "source": [
    "word_list=[''.join(word) for word in flat_list_ham]\n",
    "novel_as_string=' '.join(word_list)\n",
    "icon=Image.open(THUMBS_UP_FILE)\n",
    "image_mask=Image.new(mode=\"RGB\",size=icon.size,color=(255,255,255))\n",
    "image_mask.paste(icon,box=icon)\n",
    "rgb_array=np.array(image_mask)\n",
    "word_cloud=WordCloud(mask=rgb_array,max_words=400,colormap=\"winter\").generate(novel_as_string)\n",
    "plt.figure(figsize=[16,8])\n",
    "plt.axis(\"off\")\n",
    "plt.imshow(word_cloud)"
   ]
  },
  {
   "cell_type": "code",
   "execution_count": 43,
   "metadata": {},
   "outputs": [
    {
     "data": {
      "text/plain": [
       "<matplotlib.image.AxesImage at 0x21c3a3e05e0>"
      ]
     },
     "execution_count": 43,
     "metadata": {},
     "output_type": "execute_result"
    },
    {
     "data": {
      "image/png": "[encoded data removed]",
      "text/plain": [
       "<Figure size 1280x640 with 1 Axes>"
      ]
     },
     "metadata": {},
     "output_type": "display_data"
    }
   ],
   "source": [
    "word_list=[word for word in flat_list_spam]\n",
    "novel_as_string=' '.join(word_list)\n",
    "icon=Image.open(THUMBS_DOWN_FILE)\n",
    "image_mask=Image.new(mode=\"RGB\",size=icon.size,color=(255,255,255))\n",
    "image_mask.paste(icon,box=icon)\n",
    "rgb_array=np.array(image_mask)\n",
    "word_cloud=WordCloud(mask=rgb_array,max_words=500,colormap=\"gist_heat\",font_path=CUSTOM_FONT_FILE).generate(novel_as_string)\n",
    "plt.figure(figsize=[16,8])\n",
    "plt.axis(\"off\")\n",
    "plt.imshow(word_cloud)"
   ]
  },
  {
   "attachments": {},
   "cell_type": "markdown",
   "metadata": {},
   "source": [
    "## Generate Vocabulary "
   ]
  },
  {
   "cell_type": "code",
   "execution_count": 44,
   "metadata": {},
   "outputs": [
    {
     "name": "stderr",
     "output_type": "stream",
     "text": [
      "c:\\Users\\Shubham\\AppData\\Local\\Programs\\Python\\Python39\\lib\\site-packages\\bs4\\__init__.py:435: MarkupResemblesLocatorWarning: The input looks more like a filename than markup. You may want to open this file and pass the filehandle into Beautiful Soup.\n",
      "  warnings.warn(\n",
      "c:\\Users\\Shubham\\AppData\\Local\\Programs\\Python\\Python39\\lib\\site-packages\\bs4\\__init__.py:404: MarkupResemblesLocatorWarning: The input looks more like a URL than markup. You may want to use an HTTP client like requests to get the document behind the URL, and feed that document to Beautiful Soup.\n",
      "  warnings.warn(\n"
     ]
    }
   ],
   "source": [
    "nested_stemmed_word=data.MESSAGE.apply(clean_msg_no_html)\n",
    "flat_stemmed_list=[word for sublist in nested_stemmed_word for word in sublist]"
   ]
  },
  {
   "cell_type": "code",
   "execution_count": 45,
   "metadata": {},
   "outputs": [
    {
     "name": "stdout",
     "output_type": "stream",
     "text": [
      "Number of unique words:  27334\n"
     ]
    },
    {
     "data": {
      "text/plain": [
       "Index(['http', 'use', 'list', 'email', 'get'], dtype='object')"
      ]
     },
     "execution_count": 45,
     "metadata": {},
     "output_type": "execute_result"
    }
   ],
   "source": [
    "unique_words=pd.Series(flat_stemmed_list).value_counts()\n",
    "print(\"Number of unique words: \",unique_words.shape[0])\n",
    "unique_words.head().index"
   ]
  },
  {
   "cell_type": "code",
   "execution_count": 46,
   "metadata": {},
   "outputs": [
    {
     "data": {
      "text/plain": [
       "http        10660\n",
       "use          5019\n",
       "list         4851\n",
       "email        4367\n",
       "get          4200\n",
       "            ...  \n",
       "bob            44\n",
       "occasion       43\n",
       "bullet         43\n",
       "steven         43\n",
       "analog         43\n",
       "Length: 2500, dtype: int64"
      ]
     },
     "execution_count": 46,
     "metadata": {},
     "output_type": "execute_result"
    }
   ],
   "source": [
    "# frequent_word=[word for word in unique_words.head(2500).index]\n",
    "# frequent_word[:10]\n",
    "frequent_word=unique_words[0:VOCAB_SIZE]\n",
    "frequent_word"
   ]
  },
  {
   "cell_type": "code",
   "execution_count": 47,
   "metadata": {},
   "outputs": [
    {
     "data": {
      "text/html": [
       "<div>\n",
       "<style scoped>\n",
       "    .dataframe tbody tr th:only-of-type {\n",
       "        vertical-align: middle;\n",
       "    }\n",
       "\n",
       "    .dataframe tbody tr th {\n",
       "        vertical-align: top;\n",
       "    }\n",
       "\n",
       "    .dataframe thead th {\n",
       "        text-align: right;\n",
       "    }\n",
       "</style>\n",
       "<table border=\"1\" class=\"dataframe\">\n",
       "  <thead>\n",
       "    <tr style=\"text-align: right;\">\n",
       "      <th></th>\n",
       "      <th>VOCAB_WORD</th>\n",
       "    </tr>\n",
       "    <tr>\n",
       "      <th>WORD_ID</th>\n",
       "      <th></th>\n",
       "    </tr>\n",
       "  </thead>\n",
       "  <tbody>\n",
       "    <tr>\n",
       "      <th>0</th>\n",
       "      <td>http</td>\n",
       "    </tr>\n",
       "    <tr>\n",
       "      <th>1</th>\n",
       "      <td>use</td>\n",
       "    </tr>\n",
       "    <tr>\n",
       "      <th>2</th>\n",
       "      <td>list</td>\n",
       "    </tr>\n",
       "    <tr>\n",
       "      <th>3</th>\n",
       "      <td>email</td>\n",
       "    </tr>\n",
       "    <tr>\n",
       "      <th>4</th>\n",
       "      <td>get</td>\n",
       "    </tr>\n",
       "    <tr>\n",
       "      <th>...</th>\n",
       "      <td>...</td>\n",
       "    </tr>\n",
       "    <tr>\n",
       "      <th>2495</th>\n",
       "      <td>bob</td>\n",
       "    </tr>\n",
       "    <tr>\n",
       "      <th>2496</th>\n",
       "      <td>occasion</td>\n",
       "    </tr>\n",
       "    <tr>\n",
       "      <th>2497</th>\n",
       "      <td>bullet</td>\n",
       "    </tr>\n",
       "    <tr>\n",
       "      <th>2498</th>\n",
       "      <td>steven</td>\n",
       "    </tr>\n",
       "    <tr>\n",
       "      <th>2499</th>\n",
       "      <td>analog</td>\n",
       "    </tr>\n",
       "  </tbody>\n",
       "</table>\n",
       "<p>2500 rows × 1 columns</p>\n",
       "</div>"
      ],
      "text/plain": [
       "        VOCAB_WORD\n",
       "WORD_ID           \n",
       "0             http\n",
       "1              use\n",
       "2             list\n",
       "3            email\n",
       "4              get\n",
       "...            ...\n",
       "2495           bob\n",
       "2496      occasion\n",
       "2497        bullet\n",
       "2498        steven\n",
       "2499        analog\n",
       "\n",
       "[2500 rows x 1 columns]"
      ]
     },
     "execution_count": 47,
     "metadata": {},
     "output_type": "execute_result"
    }
   ],
   "source": [
    "word_ids=list(range(0,VOCAB_SIZE))\n",
    "vocab=pd.DataFrame({\"VOCAB_WORD\":frequent_word.index.values},index=word_ids)\n",
    "vocab.index.name=\"WORD_ID\"\n",
    "vocab"
   ]
  },
  {
   "cell_type": "code",
   "execution_count": 48,
   "metadata": {},
   "outputs": [],
   "source": [
    "vocab.to_csv(WORD_ID_FILE,index_label=vocab.index.name,header=vocab.VOCAB_WORD.name)"
   ]
  },
  {
   "cell_type": "code",
   "execution_count": 49,
   "metadata": {},
   "outputs": [
    {
     "name": "stdout",
     "output_type": "stream",
     "text": [
      "machine:False\n",
      "learning:False\n",
      "fun:True\n",
      "learn:True\n",
      "data:True\n",
      "science:False\n",
      "app:True\n",
      "brewer:False\n"
     ]
    }
   ],
   "source": [
    "the_word=[\"machine\",\"learning\",\"fun\",\"learn\",\"data\",\"science\",\"app\",\"brewer\"]\n",
    "for word in the_word:\n",
    "    if word in set(vocab.VOCAB_WORD):  #vocab.VOCAB_WORD.values:\n",
    "        print(f\"{word}:True\")\n",
    "    else:\n",
    "        print(f\"{word}:False\")\n"
   ]
  },
  {
   "cell_type": "code",
   "execution_count": 51,
   "metadata": {},
   "outputs": [
    {
     "name": "stdout",
     "output_type": "stream",
     "text": [
      "7671\n",
      "5775\n"
     ]
    },
    {
     "data": {
      "text/plain": [
       "['yahoo',\n",
       " 'group',\n",
       " 'sponsor',\n",
       " 'dvd',\n",
       " 'free',\n",
       " 'p',\n",
       " 'join',\n",
       " 'http',\n",
       " 'new',\n",
       " 'version',\n",
       " 'unison',\n",
       " 'avail',\n",
       " 'test',\n",
       " 'incorpor',\n",
       " 'sever',\n",
       " 'small',\n",
       " 'improv',\n",
       " 'main',\n",
       " 'chang',\n",
       " 'fix',\n",
       " 'bug',\n",
       " 'potenti',\n",
       " 'seriou',\n",
       " 'safeti',\n",
       " 'consequ',\n",
       " 'small',\n",
       " 'number',\n",
       " 'user',\n",
       " 'habit',\n",
       " 'run',\n",
       " 'one',\n",
       " 'instanc',\n",
       " 'unison',\n",
       " 'time',\n",
       " 'parallel',\n",
       " 'user',\n",
       " 'strongli',\n",
       " 'encourag',\n",
       " 'upgrad',\n",
       " 'other',\n",
       " 'wait',\n",
       " 'wish',\n",
       " 'releas',\n",
       " 'includ',\n",
       " 'execut',\n",
       " 'linux',\n",
       " 'solari',\n",
       " 'window',\n",
       " 'look',\n",
       " 'maintain',\n",
       " 'moment',\n",
       " 'none',\n",
       " 'activ',\n",
       " 'develop',\n",
       " 'regularli',\n",
       " 'use',\n",
       " 'unison',\n",
       " 'window',\n",
       " 'machin',\n",
       " 'configur',\n",
       " 'properli',\n",
       " 'build',\n",
       " 'execut',\n",
       " 'export',\n",
       " 'grab',\n",
       " 'http',\n",
       " 'enjoy',\n",
       " 'benjamin',\n",
       " 'chang',\n",
       " 'sinc',\n",
       " 'ad',\n",
       " 'prefer',\n",
       " 'maxthread',\n",
       " 'use',\n",
       " 'limit',\n",
       " 'number',\n",
       " 'simultan',\n",
       " 'file',\n",
       " 'transfer',\n",
       " 'ad',\n",
       " 'backupdir',\n",
       " 'prefer',\n",
       " 'control',\n",
       " 'backup',\n",
       " 'file',\n",
       " 'store',\n",
       " 'basic',\n",
       " 'support',\n",
       " 'ad',\n",
       " 'osx',\n",
       " 'particular',\n",
       " 'unison',\n",
       " 'recogn',\n",
       " 'one',\n",
       " 'host',\n",
       " 'synchron',\n",
       " 'run',\n",
       " 'osx',\n",
       " 'switch',\n",
       " 'treatment',\n",
       " 'filenam',\n",
       " 'consid',\n",
       " 'file',\n",
       " 'osx',\n",
       " 'yet',\n",
       " 'fulli',\n",
       " 'work',\n",
       " 'howev',\n",
       " 'particular',\n",
       " 'file',\n",
       " 'resourc',\n",
       " 'fork',\n",
       " 'synchron',\n",
       " 'correctli',\n",
       " 'hash',\n",
       " 'use',\n",
       " 'form',\n",
       " 'archiv',\n",
       " 'name',\n",
       " 'also',\n",
       " 'ad',\n",
       " 'name',\n",
       " 'temp',\n",
       " 'file',\n",
       " 'creat',\n",
       " 'file',\n",
       " 'transfer',\n",
       " 'reason',\n",
       " 'updat',\n",
       " 'detect',\n",
       " 'go',\n",
       " 'silent',\n",
       " 'delet',\n",
       " 'old',\n",
       " 'temp',\n",
       " 'file',\n",
       " 'find',\n",
       " 'along',\n",
       " 'way',\n",
       " 'want',\n",
       " 'prevent',\n",
       " 'delet',\n",
       " 'temp',\n",
       " 'file',\n",
       " 'belong',\n",
       " 'instanc',\n",
       " 'unison',\n",
       " 'may',\n",
       " 'run',\n",
       " 'parallel',\n",
       " 'synchron',\n",
       " 'differ',\n",
       " 'host',\n",
       " 'thank',\n",
       " 'ruslan',\n",
       " 'ermilov',\n",
       " 'suggest',\n",
       " 'sever',\n",
       " 'small',\n",
       " 'user',\n",
       " 'interfac',\n",
       " 'improv',\n",
       " 'document',\n",
       " 'faq',\n",
       " 'bug',\n",
       " 'report',\n",
       " 'instruct',\n",
       " 'split',\n",
       " 'separ',\n",
       " 'html',\n",
       " 'page',\n",
       " 'access',\n",
       " 'directli',\n",
       " 'unison',\n",
       " 'web',\n",
       " 'page',\n",
       " 'addit',\n",
       " 'faq',\n",
       " 'particular',\n",
       " 'suggest',\n",
       " 'perform',\n",
       " 'tune',\n",
       " 'makefil',\n",
       " 'set',\n",
       " 'automat',\n",
       " 'depend',\n",
       " 'whether',\n",
       " 'find',\n",
       " 'lablgtk',\n",
       " 'instal',\n",
       " 'unison',\n",
       " 'compil',\n",
       " 'box',\n",
       " 'osx',\n",
       " 'chang',\n",
       " 'sinc',\n",
       " 'chang',\n",
       " 'profil',\n",
       " 'work',\n",
       " 'window',\n",
       " 'file',\n",
       " 'movement',\n",
       " 'optim',\n",
       " 'unison',\n",
       " 'tri',\n",
       " 'use',\n",
       " 'local',\n",
       " 'copi',\n",
       " 'instead',\n",
       " 'transfer',\n",
       " 'move',\n",
       " 'copi',\n",
       " 'file',\n",
       " 'control',\n",
       " 'boolean',\n",
       " 'option',\n",
       " 'xferbycopi',\n",
       " 'network',\n",
       " 'statist',\n",
       " 'window',\n",
       " 'transfer',\n",
       " 'rate',\n",
       " 'amount',\n",
       " 'data',\n",
       " 'transfer',\n",
       " 'nb',\n",
       " 'avail',\n",
       " 'version',\n",
       " 'symlink',\n",
       " 'work',\n",
       " 'cygwin',\n",
       " 'version',\n",
       " 'dynam',\n",
       " 'link',\n",
       " 'fix',\n",
       " 'potenti',\n",
       " 'deadlock',\n",
       " 'synchron',\n",
       " 'window',\n",
       " 'unix',\n",
       " 'small',\n",
       " 'improv',\n",
       " 'neither',\n",
       " 'tt',\n",
       " 'userprofil',\n",
       " 'tt',\n",
       " 'home',\n",
       " 'environ',\n",
       " 'variabl',\n",
       " 'set',\n",
       " 'unison',\n",
       " 'put',\n",
       " 'temporari',\n",
       " 'commit',\n",
       " 'log',\n",
       " 'call',\n",
       " 'tt',\n",
       " 'directori',\n",
       " 'name',\n",
       " 'tt',\n",
       " 'unison',\n",
       " 'environ',\n",
       " 'variabl',\n",
       " 'otherwis',\n",
       " 'use',\n",
       " 'tt',\n",
       " 'c',\n",
       " 'altern',\n",
       " 'set',\n",
       " 'valu',\n",
       " 'fastcheck',\n",
       " 'ye',\n",
       " 'true',\n",
       " 'fals',\n",
       " 'default',\n",
       " 'auto',\n",
       " 'impli',\n",
       " 'sourc',\n",
       " 'code',\n",
       " 'code',\n",
       " 'reorgan',\n",
       " 'tidi',\n",
       " 'start',\n",
       " 'break',\n",
       " 'basic',\n",
       " 'util',\n",
       " 'modul',\n",
       " 'stuff',\n",
       " 'made',\n",
       " 'avail',\n",
       " 'project',\n",
       " 'sever',\n",
       " 'makefil',\n",
       " 'doc',\n",
       " 'chang',\n",
       " 'releas',\n",
       " 'comment',\n",
       " 'connect',\n",
       " 'inform',\n",
       " 'store',\n",
       " 'global',\n",
       " 'variabl',\n",
       " 'anymor',\n",
       " 'chang',\n",
       " 'sinc',\n",
       " 'small',\n",
       " 'bugfix',\n",
       " 'textual',\n",
       " 'user',\n",
       " 'interfac',\n",
       " 'unix',\n",
       " 'avoid',\n",
       " 'leav',\n",
       " 'termin',\n",
       " 'bad',\n",
       " 'state',\n",
       " 'would',\n",
       " 'echo',\n",
       " 'input',\n",
       " 'unison',\n",
       " 'exit',\n",
       " 'chang',\n",
       " 'sinc',\n",
       " 'improv',\n",
       " 'main',\n",
       " 'web',\n",
       " 'page',\n",
       " 'stabl',\n",
       " 'beta',\n",
       " 'version',\n",
       " 'doc',\n",
       " 'access',\n",
       " 'user',\n",
       " 'manual',\n",
       " 'revis',\n",
       " 'ad',\n",
       " 'new',\n",
       " 'prefer',\n",
       " 'sshcmd',\n",
       " 'rshcmd',\n",
       " 'specifi',\n",
       " 'path',\n",
       " 'ssh',\n",
       " 'rsh',\n",
       " 'program',\n",
       " 'contactquietli',\n",
       " 'suppress',\n",
       " 'contact',\n",
       " 'server',\n",
       " 'messag',\n",
       " 'unison',\n",
       " 'startup',\n",
       " 'graphic',\n",
       " 'ui',\n",
       " 'bug',\n",
       " 'fix',\n",
       " 'fix',\n",
       " 'small',\n",
       " 'bug',\n",
       " 'ui',\n",
       " 'neglect',\n",
       " 'chang',\n",
       " 'display',\n",
       " 'column',\n",
       " 'header',\n",
       " 'load',\n",
       " 'new',\n",
       " 'profil',\n",
       " 'caus',\n",
       " 'root',\n",
       " 'chang',\n",
       " 'fix',\n",
       " 'bug',\n",
       " 'would',\n",
       " 'put',\n",
       " 'text',\n",
       " 'ui',\n",
       " 'infinit',\n",
       " 'loop',\n",
       " 'encount',\n",
       " 'conflict',\n",
       " 'run',\n",
       " 'batch',\n",
       " 'mode',\n",
       " 'ad',\n",
       " 'code',\n",
       " 'tri',\n",
       " 'fix',\n",
       " 'display',\n",
       " 'charact',\n",
       " 'filenam',\n",
       " 'window',\n",
       " 'system',\n",
       " 'gtk',\n",
       " 'ui',\n",
       " 'code',\n",
       " 'current',\n",
       " 'untest',\n",
       " 'one',\n",
       " 'peopl',\n",
       " 'report',\n",
       " 'problem',\n",
       " 'display',\n",
       " 'filenam',\n",
       " 'appreci',\n",
       " 'know',\n",
       " 'actual',\n",
       " 'fix',\n",
       " 'thing',\n",
       " 'newer',\n",
       " 'work',\n",
       " 'properli',\n",
       " 'bug',\n",
       " 'report',\n",
       " 'sebastian',\n",
       " 'urbaniak',\n",
       " 'sean',\n",
       " 'fulton',\n",
       " 'user',\n",
       " 'interfac',\n",
       " 'unison',\n",
       " 'behavior',\n",
       " 'renam',\n",
       " 'proceed',\n",
       " 'go',\n",
       " 'graphic',\n",
       " 'ui',\n",
       " 'ad',\n",
       " 'exit',\n",
       " 'statu',\n",
       " 'textual',\n",
       " 'user',\n",
       " 'interfac',\n",
       " 'path',\n",
       " 'synchron',\n",
       " 'conflict',\n",
       " 'error',\n",
       " 'updat',\n",
       " 'detect',\n",
       " 'note',\n",
       " 'log',\n",
       " 'file',\n",
       " 'end',\n",
       " 'messag',\n",
       " 'log',\n",
       " 'use',\n",
       " 'briefer',\n",
       " 'format',\n",
       " 'chang',\n",
       " 'text',\n",
       " 'ui',\n",
       " 'startup',\n",
       " 'sequenc',\n",
       " 'tt',\n",
       " 'text',\n",
       " 'use',\n",
       " 'default',\n",
       " 'profil',\n",
       " 'instead',\n",
       " 'fail',\n",
       " 'made',\n",
       " 'improv',\n",
       " 'error',\n",
       " 'messag',\n",
       " 'ad',\n",
       " 'debug',\n",
       " 'messag',\n",
       " 'chang',\n",
       " 'sinc',\n",
       " 'incorpor',\n",
       " 'transport',\n",
       " 'transfer',\n",
       " 'sever',\n",
       " 'file',\n",
       " 'time',\n",
       " 'therebi',\n",
       " 'make',\n",
       " 'much',\n",
       " 'effect',\n",
       " 'use',\n",
       " 'avail',\n",
       " 'network',\n",
       " 'bandwidth',\n",
       " 'unlik',\n",
       " 'earlier',\n",
       " 'attempt',\n",
       " 'time',\n",
       " 'reli',\n",
       " 'nativ',\n",
       " 'thread',\n",
       " 'librari',\n",
       " 'ocaml',\n",
       " 'instead',\n",
       " 'implement',\n",
       " 'librari',\n",
       " 'ocaml',\n",
       " 'directli',\n",
       " 'version',\n",
       " 'appear',\n",
       " 'stabl',\n",
       " 'adjust',\n",
       " 'unison',\n",
       " 'made',\n",
       " 'accommod',\n",
       " 'version',\n",
       " 'includ',\n",
       " 'particular',\n",
       " 'chang',\n",
       " 'user',\n",
       " 'interfac',\n",
       " 'log',\n",
       " 'exampl',\n",
       " 'two',\n",
       " 'log',\n",
       " 'entri',\n",
       " 'transfer',\n",
       " 'task',\n",
       " 'one',\n",
       " 'begin',\n",
       " 'one',\n",
       " 'end',\n",
       " 'suppress',\n",
       " 'warn',\n",
       " 'messag',\n",
       " 'remov',\n",
       " 'temp',\n",
       " 'file',\n",
       " 'left',\n",
       " 'previou',\n",
       " 'unison',\n",
       " 'run',\n",
       " 'warn',\n",
       " 'work',\n",
       " 'nice',\n",
       " 'temp',\n",
       " 'file',\n",
       " 'name',\n",
       " 'made',\n",
       " 'less',\n",
       " 'like',\n",
       " 'coincid',\n",
       " 'name',\n",
       " 'file',\n",
       " 'creat',\n",
       " 'user',\n",
       " 'take',\n",
       " 'form',\n",
       " 'ad',\n",
       " 'new',\n",
       " 'command',\n",
       " 'gtk',\n",
       " 'user',\n",
       " 'interfac',\n",
       " 'press',\n",
       " 'f',\n",
       " 'caus',\n",
       " 'unison',\n",
       " 'start',\n",
       " 'new',\n",
       " 'updat',\n",
       " 'detect',\n",
       " 'phase',\n",
       " 'use',\n",
       " 'path',\n",
       " 'path',\n",
       " 'detect',\n",
       " 'chang',\n",
       " 'yet',\n",
       " 'mark',\n",
       " 'success',\n",
       " 'complet',\n",
       " 'use',\n",
       " 'command',\n",
       " 'quickli',\n",
       " 'restart',\n",
       " 'unison',\n",
       " 'set',\n",
       " 'path',\n",
       " 'still',\n",
       " 'need',\n",
       " 'attent',\n",
       " 'previou',\n",
       " 'run',\n",
       " 'made',\n",
       " 'ignorecas',\n",
       " 'prefer',\n",
       " 'chang',\n",
       " 'initi',\n",
       " 'code',\n",
       " 'manual',\n",
       " 'set',\n",
       " 'true',\n",
       " 'even',\n",
       " 'neither',\n",
       " 'host',\n",
       " 'run',\n",
       " 'window',\n",
       " 'may',\n",
       " 'use',\n",
       " 'use',\n",
       " 'unison',\n",
       " 'run',\n",
       " 'unix',\n",
       " 'system',\n",
       " 'fat',\n",
       " 'volum',\n",
       " 'mount',\n",
       " 'small',\n",
       " 'improv',\n",
       " 'bug',\n",
       " 'fix',\n",
       " 'error',\n",
       " 'prefer',\n",
       " 'file',\n",
       " 'gener',\n",
       " 'fatal',\n",
       " 'error',\n",
       " 'rather',\n",
       " 'warn',\n",
       " 'startup',\n",
       " 'time',\n",
       " 'ca',\n",
       " 'go',\n",
       " 'also',\n",
       " 'fix',\n",
       " 'bug',\n",
       " 'prevent',\n",
       " 'warn',\n",
       " 'appear',\n",
       " 'text',\n",
       " 'ui',\n",
       " 'user',\n",
       " 'run',\n",
       " 'unsuspectingli',\n",
       " 'garbag',\n",
       " 'pref',\n",
       " 'file',\n",
       " 'may',\n",
       " 'get',\n",
       " 'error',\n",
       " 'report',\n",
       " 'error',\n",
       " 'report',\n",
       " 'prefer',\n",
       " 'file',\n",
       " 'provid',\n",
       " 'file',\n",
       " 'name',\n",
       " 'line',\n",
       " 'number',\n",
       " 'intellig',\n",
       " 'messag',\n",
       " 'case',\n",
       " 'ident',\n",
       " 'chang',\n",
       " 'file',\n",
       " 'noth',\n",
       " 'replica',\n",
       " 'chang',\n",
       " 'ident',\n",
       " 'way',\n",
       " 'sinc',\n",
       " 'last',\n",
       " 'sync',\n",
       " 'file',\n",
       " 'prefix',\n",
       " 'exclud',\n",
       " 'scan',\n",
       " 'prefer',\n",
       " 'file',\n",
       " 'rsync',\n",
       " 'instruct',\n",
       " 'send',\n",
       " 'directli',\n",
       " 'instead',\n",
       " 'first',\n",
       " 'marshal',\n",
       " 'wo',\n",
       " 'tri',\n",
       " 'forev',\n",
       " 'get',\n",
       " 'fingerprint',\n",
       " 'continu',\n",
       " 'chang',\n",
       " 'file',\n",
       " 'unison',\n",
       " 'give',\n",
       " 'certain',\n",
       " 'number',\n",
       " 'retri',\n",
       " 'bug',\n",
       " 'fix',\n",
       " 'includ',\n",
       " 'one',\n",
       " 'report',\n",
       " 'peter',\n",
       " 'seling',\n",
       " 'prefer',\n",
       " 'work',\n",
       " 'compil',\n",
       " 'upgrad',\n",
       " 'new',\n",
       " 'ocaml',\n",
       " 'compil',\n",
       " 'lablgtk',\n",
       " 'librari',\n",
       " 'patch',\n",
       " 'version',\n",
       " 'use',\n",
       " 'compil',\n",
       " 'window',\n",
       " 'ad',\n",
       " 'option',\n",
       " 'compil',\n",
       " 'unison',\n",
       " 'window',\n",
       " 'platform',\n",
       " 'cygwin',\n",
       " 'gnu',\n",
       " 'c',\n",
       " 'compil',\n",
       " 'option',\n",
       " 'support',\n",
       " 'build',\n",
       " 'dynam',\n",
       " 'link',\n",
       " 'unison',\n",
       " 'execut',\n",
       " 'chang',\n",
       " 'sinc',\n",
       " 'fix',\n",
       " 'silli',\n",
       " 'debilit',\n",
       " 'bug',\n",
       " 'client',\n",
       " 'startup',\n",
       " 'sequenc',\n",
       " 'chang',\n",
       " 'sinc',\n",
       " 'ad',\n",
       " 'addprefsto',\n",
       " 'prefer',\n",
       " 'set',\n",
       " 'control',\n",
       " 'prefer',\n",
       " 'file',\n",
       " 'new',\n",
       " 'prefer',\n",
       " 'new',\n",
       " 'ignor',\n",
       " 'pattern',\n",
       " 'ad',\n",
       " 'bug',\n",
       " 'fix',\n",
       " 'read',\n",
       " 'initi',\n",
       " 'connect',\n",
       " 'header',\n",
       " 'one',\n",
       " 'byte',\n",
       " 'time',\n",
       " 'block',\n",
       " 'header',\n",
       " 'shorter',\n",
       " 'expect',\n",
       " 'bug',\n",
       " 'affect',\n",
       " 'normal',\n",
       " 'oper',\n",
       " 'made',\n",
       " 'hard',\n",
       " 'tell',\n",
       " 'tri',\n",
       " 'use',\n",
       " 'unison',\n",
       " 'incorrectli',\n",
       " 'old',\n",
       " 'version',\n",
       " 'server',\n",
       " 'sinc',\n",
       " 'would',\n",
       " 'hang',\n",
       " 'instead',\n",
       " 'give',\n",
       " 'error',\n",
       " 'messag',\n",
       " 'chang',\n",
       " 'sinc',\n",
       " 'chang',\n",
       " 'fastcheck',\n",
       " 'boolean',\n",
       " 'string',\n",
       " 'prefer',\n",
       " 'legal',\n",
       " 'valu',\n",
       " 'ye',\n",
       " 'fast',\n",
       " 'check',\n",
       " 'safe',\n",
       " 'check',\n",
       " 'default',\n",
       " 'fast',\n",
       " 'check',\n",
       " 'also',\n",
       " 'happen',\n",
       " 'safe',\n",
       " 'run',\n",
       " 'unix',\n",
       " 'safe',\n",
       " 'check',\n",
       " 'window',\n",
       " 'default',\n",
       " 'default',\n",
       " 'sever',\n",
       " 'prefer',\n",
       " 'renam',\n",
       " 'consist',\n",
       " 'prefer',\n",
       " 'name',\n",
       " 'spell',\n",
       " 'lowercas',\n",
       " 'backward',\n",
       " 'compat',\n",
       " 'old',\n",
       " 'name',\n",
       " 'still',\n",
       " 'work',\n",
       " 'mention',\n",
       " 'manual',\n",
       " 'temp',\n",
       " 'file',\n",
       " 'creat',\n",
       " 'command',\n",
       " 'name',\n",
       " 'prepend',\n",
       " 'new',\n",
       " 'prefix',\n",
       " 'file',\n",
       " 'name',\n",
       " 'rather',\n",
       " 'append',\n",
       " 'suffix',\n",
       " 'avoid',\n",
       " 'confus',\n",
       " 'program',\n",
       " 'depend',\n",
       " 'suffix',\n",
       " 'guess',\n",
       " 'type',\n",
       " 'file',\n",
       " 'content',\n",
       " 'set',\n",
       " 'keepal',\n",
       " 'option',\n",
       " 'server',\n",
       " 'socket',\n",
       " 'make',\n",
       " 'sure',\n",
       " 'server',\n",
       " 'time',\n",
       " 'commun',\n",
       " 'link',\n",
       " 'unexpectedli',\n",
       " 'broken',\n",
       " 'bug',\n",
       " 'fix',\n",
       " 'updat',\n",
       " 'small',\n",
       " 'file',\n",
       " 'unison',\n",
       " 'close',\n",
       " 'destin',\n",
       " 'file',\n",
       " 'file',\n",
       " 'permiss',\n",
       " 'properli',\n",
       " 'updat',\n",
       " 'file',\n",
       " 'behind',\n",
       " 'follow',\n",
       " 'link',\n",
       " 'sever',\n",
       " 'small',\n",
       " 'fix',\n",
       " 'chang',\n",
       " 'sinc',\n",
       " 'major',\n",
       " 'window',\n",
       " 'perform',\n",
       " 'improv',\n",
       " 'ad',\n",
       " 'prefer',\n",
       " 'fastcheck',\n",
       " 'make',\n",
       " 'unison',\n",
       " 'look',\n",
       " 'file',\n",
       " 'creation',\n",
       " 'time',\n",
       " 'time',\n",
       " 'check',\n",
       " 'whether',\n",
       " 'chang',\n",
       " 'result',\n",
       " 'huge',\n",
       " 'speedup',\n",
       " 'check',\n",
       " 'updat',\n",
       " 'larg',\n",
       " 'replica',\n",
       " 'switch',\n",
       " 'set',\n",
       " 'unison',\n",
       " 'use',\n",
       " 'file',\n",
       " 'creation',\n",
       " 'time',\n",
       " 'inod',\n",
       " 'number',\n",
       " 'scan',\n",
       " 'window',\n",
       " 'replica',\n",
       " 'updat',\n",
       " 'instead',\n",
       " 'read',\n",
       " 'full',\n",
       " 'content',\n",
       " 'everi',\n",
       " 'file',\n",
       " 'may',\n",
       " 'caus',\n",
       " 'unison',\n",
       " 'miss',\n",
       " 'propag',\n",
       " 'updat',\n",
       " 'creat',\n",
       " 'time',\n",
       " 'modif',\n",
       " 'time',\n",
       " 'length',\n",
       " 'file',\n",
       " 'unchang',\n",
       " 'updat',\n",
       " 'easi',\n",
       " 'achiev',\n",
       " 'done',\n",
       " 'howev',\n",
       " 'unison',\n",
       " 'never',\n",
       " 'overwrit',\n",
       " 'updat',\n",
       " 'chang',\n",
       " 'replica',\n",
       " 'sinc',\n",
       " 'alway',\n",
       " 'safe',\n",
       " 'check',\n",
       " 'updat',\n",
       " 'propag',\n",
       " 'chang',\n",
       " 'thu',\n",
       " 'reason',\n",
       " 'use',\n",
       " 'switch',\n",
       " 'time',\n",
       " 'occasion',\n",
       " 'run',\n",
       " 'unison',\n",
       " 'fastcheck',\n",
       " 'set',\n",
       " 'fals',\n",
       " 'worri',\n",
       " 'unison',\n",
       " 'may',\n",
       " 'overlook',\n",
       " 'updat',\n",
       " 'warn',\n",
       " 'chang',\n",
       " 'yet',\n",
       " 'thoroughli',\n",
       " 'set',\n",
       " 'fastcheck',\n",
       " 'prefer',\n",
       " 'pay',\n",
       " 'care',\n",
       " 'attent',\n",
       " 'unison',\n",
       " 'new',\n",
       " 'function',\n",
       " 'central',\n",
       " 'backup',\n",
       " 'merg',\n",
       " 'version',\n",
       " 'incorpor',\n",
       " 'two',\n",
       " 'piec',\n",
       " 'major',\n",
       " 'new',\n",
       " 'function',\n",
       " 'implement',\n",
       " ...]"
      ]
     },
     "execution_count": 51,
     "metadata": {},
     "output_type": "execute_result"
    }
   ],
   "source": [
    "nested_stemmed_word\n",
    "md=pd.DataFrame(nested_stemmed_word)\n",
    "# print(max([len(sublist) for sublist in nested_stemmed_word]))\n",
    "# md[max([len(sublist) for sublist in md.MESSAGE])==7671].index.value\n",
    "length=[len(sublist) for sublist in md.MESSAGE]\n",
    "# md[\"Length\"]=length\n",
    "# ln=md[max(md.Length)==md.Length].index.values[0]\n",
    "# md[md.index.values[0]==ln].MESSAGE\n",
    "# md.iloc[ln]\n",
    "# ln\n",
    "# md.tail(30)\n",
    "print(max(length))\n",
    "print(np.argmax(length))\n",
    "nested_stemmed_word[np.argmax(length)]"
   ]
  },
  {
   "cell_type": "code",
   "execution_count": null,
   "metadata": {},
   "outputs": [
    {
     "data": {
      "text/html": [
       "<div>\n",
       "<style scoped>\n",
       "    .dataframe tbody tr th:only-of-type {\n",
       "        vertical-align: middle;\n",
       "    }\n",
       "\n",
       "    .dataframe tbody tr th {\n",
       "        vertical-align: top;\n",
       "    }\n",
       "\n",
       "    .dataframe thead th {\n",
       "        text-align: right;\n",
       "    }\n",
       "</style>\n",
       "<table border=\"1\" class=\"dataframe\">\n",
       "  <thead>\n",
       "    <tr style=\"text-align: right;\">\n",
       "      <th></th>\n",
       "      <th>0</th>\n",
       "      <th>1</th>\n",
       "      <th>2</th>\n",
       "      <th>3</th>\n",
       "      <th>4</th>\n",
       "      <th>5</th>\n",
       "      <th>6</th>\n",
       "      <th>7</th>\n",
       "      <th>8</th>\n",
       "      <th>9</th>\n",
       "      <th>...</th>\n",
       "      <th>7661</th>\n",
       "      <th>7662</th>\n",
       "      <th>7663</th>\n",
       "      <th>7664</th>\n",
       "      <th>7665</th>\n",
       "      <th>7666</th>\n",
       "      <th>7667</th>\n",
       "      <th>7668</th>\n",
       "      <th>7669</th>\n",
       "      <th>7670</th>\n",
       "    </tr>\n",
       "  </thead>\n",
       "  <tbody>\n",
       "    <tr>\n",
       "      <th>0</th>\n",
       "      <td>save</td>\n",
       "      <td>life</td>\n",
       "      <td>insur</td>\n",
       "      <td>spend</td>\n",
       "      <td>life</td>\n",
       "      <td>quot</td>\n",
       "      <td>save</td>\n",
       "      <td>g</td>\n",
       "      <td>famili</td>\n",
       "      <td>financi</td>\n",
       "      <td>...</td>\n",
       "      <td>None</td>\n",
       "      <td>None</td>\n",
       "      <td>None</td>\n",
       "      <td>None</td>\n",
       "      <td>None</td>\n",
       "      <td>None</td>\n",
       "      <td>None</td>\n",
       "      <td>None</td>\n",
       "      <td>None</td>\n",
       "      <td>None</td>\n",
       "    </tr>\n",
       "    <tr>\n",
       "      <th>1</th>\n",
       "      <td>fight</td>\n",
       "      <td>risk</td>\n",
       "      <td>cancer</td>\n",
       "      <td>http</td>\n",
       "      <td>slim</td>\n",
       "      <td>guarante</td>\n",
       "      <td>lose</td>\n",
       "      <td>lb</td>\n",
       "      <td>day</td>\n",
       "      <td>http</td>\n",
       "      <td>...</td>\n",
       "      <td>None</td>\n",
       "      <td>None</td>\n",
       "      <td>None</td>\n",
       "      <td>None</td>\n",
       "      <td>None</td>\n",
       "      <td>None</td>\n",
       "      <td>None</td>\n",
       "      <td>None</td>\n",
       "      <td>None</td>\n",
       "      <td>None</td>\n",
       "    </tr>\n",
       "    <tr>\n",
       "      <th>2</th>\n",
       "      <td>fight</td>\n",
       "      <td>risk</td>\n",
       "      <td>cancer</td>\n",
       "      <td>http</td>\n",
       "      <td>slim</td>\n",
       "      <td>guarante</td>\n",
       "      <td>lose</td>\n",
       "      <td>lb</td>\n",
       "      <td>day</td>\n",
       "      <td>http</td>\n",
       "      <td>...</td>\n",
       "      <td>None</td>\n",
       "      <td>None</td>\n",
       "      <td>None</td>\n",
       "      <td>None</td>\n",
       "      <td>None</td>\n",
       "      <td>None</td>\n",
       "      <td>None</td>\n",
       "      <td>None</td>\n",
       "      <td>None</td>\n",
       "      <td>None</td>\n",
       "    </tr>\n",
       "    <tr>\n",
       "      <th>3</th>\n",
       "      <td>adult</td>\n",
       "      <td>club</td>\n",
       "      <td>offer</td>\n",
       "      <td>free</td>\n",
       "      <td>membership</td>\n",
       "      <td>instant</td>\n",
       "      <td>access</td>\n",
       "      <td>site</td>\n",
       "      <td>user</td>\n",
       "      <td>name</td>\n",
       "      <td>...</td>\n",
       "      <td>None</td>\n",
       "      <td>None</td>\n",
       "      <td>None</td>\n",
       "      <td>None</td>\n",
       "      <td>None</td>\n",
       "      <td>None</td>\n",
       "      <td>None</td>\n",
       "      <td>None</td>\n",
       "      <td>None</td>\n",
       "      <td>None</td>\n",
       "    </tr>\n",
       "    <tr>\n",
       "      <th>4</th>\n",
       "      <td>thought</td>\n",
       "      <td>might</td>\n",
       "      <td>like</td>\n",
       "      <td>slim</td>\n",
       "      <td>guarante</td>\n",
       "      <td>lose</td>\n",
       "      <td>lb</td>\n",
       "      <td>day</td>\n",
       "      <td>http</td>\n",
       "      <td>fight</td>\n",
       "      <td>...</td>\n",
       "      <td>None</td>\n",
       "      <td>None</td>\n",
       "      <td>None</td>\n",
       "      <td>None</td>\n",
       "      <td>None</td>\n",
       "      <td>None</td>\n",
       "      <td>None</td>\n",
       "      <td>None</td>\n",
       "      <td>None</td>\n",
       "      <td>None</td>\n",
       "    </tr>\n",
       "  </tbody>\n",
       "</table>\n",
       "<p>5 rows × 7671 columns</p>\n",
       "</div>"
      ],
      "text/plain": [
       "      0      1       2      3           4         5       6     7       8     \\\n",
       "0     save   life   insur  spend        life      quot    save     g  famili   \n",
       "1    fight   risk  cancer   http        slim  guarante    lose    lb     day   \n",
       "2    fight   risk  cancer   http        slim  guarante    lose    lb     day   \n",
       "3    adult   club   offer   free  membership   instant  access  site    user   \n",
       "4  thought  might    like   slim    guarante      lose      lb   day    http   \n",
       "\n",
       "      9     ...  7661  7662  7663  7664  7665  7666  7667  7668  7669  7670  \n",
       "0  financi  ...  None  None  None  None  None  None  None  None  None  None  \n",
       "1     http  ...  None  None  None  None  None  None  None  None  None  None  \n",
       "2     http  ...  None  None  None  None  None  None  None  None  None  None  \n",
       "3     name  ...  None  None  None  None  None  None  None  None  None  None  \n",
       "4    fight  ...  None  None  None  None  None  None  None  None  None  None  \n",
       "\n",
       "[5 rows x 7671 columns]"
      ]
     },
     "execution_count": 103,
     "metadata": {},
     "output_type": "execute_result"
    }
   ],
   "source": [
    "word_column_df=pd.DataFrame.from_records(nested_stemmed_word.tolist())\n",
    "word_column_df.head()"
   ]
  },
  {
   "cell_type": "code",
   "execution_count": null,
   "metadata": {},
   "outputs": [
    {
     "data": {
      "text/plain": [
       "(5796, 7671)"
      ]
     },
     "execution_count": 104,
     "metadata": {},
     "output_type": "execute_result"
    }
   ],
   "source": [
    "word_column_df.shape"
   ]
  },
  {
   "cell_type": "code",
   "execution_count": null,
   "metadata": {},
   "outputs": [],
   "source": [
    "X_train,X_test,y_train,y_test=train_test_split(word_column_df,data.CATEGORY,test_size=0.3,random_state=42)"
   ]
  },
  {
   "cell_type": "code",
   "execution_count": 52,
   "metadata": {},
   "outputs": [
    {
     "ename": "NameError",
     "evalue": "name 'X_train' is not defined",
     "output_type": "error",
     "traceback": [
      "\u001b[1;31m---------------------------------------------------------------------------\u001b[0m",
      "\u001b[1;31mNameError\u001b[0m                                 Traceback (most recent call last)",
      "\u001b[1;32md:\\nautanki\\ds\\BayesClassifier.ipynb Cell 62\u001b[0m in \u001b[0;36m<cell line: 1>\u001b[1;34m()\u001b[0m\n\u001b[1;32m----> <a href='vscode-notebook-cell:/d%3A/nautanki/ds/BayesClassifier.ipynb#Y115sZmlsZQ%3D%3D?line=0'>1</a>\u001b[0m X_train\u001b[39m.\u001b[39mshape\n",
      "\u001b[1;31mNameError\u001b[0m: name 'X_train' is not defined"
     ]
    }
   ],
   "source": [
    "X_train.shape"
   ]
  },
  {
   "cell_type": "code",
   "execution_count": null,
   "metadata": {},
   "outputs": [
    {
     "data": {
      "text/html": [
       "<div>\n",
       "<style scoped>\n",
       "    .dataframe tbody tr th:only-of-type {\n",
       "        vertical-align: middle;\n",
       "    }\n",
       "\n",
       "    .dataframe tbody tr th {\n",
       "        vertical-align: top;\n",
       "    }\n",
       "\n",
       "    .dataframe thead th {\n",
       "        text-align: right;\n",
       "    }\n",
       "</style>\n",
       "<table border=\"1\" class=\"dataframe\">\n",
       "  <thead>\n",
       "    <tr style=\"text-align: right;\">\n",
       "      <th></th>\n",
       "      <th>0</th>\n",
       "      <th>1</th>\n",
       "      <th>2</th>\n",
       "      <th>3</th>\n",
       "      <th>4</th>\n",
       "      <th>5</th>\n",
       "      <th>6</th>\n",
       "      <th>7</th>\n",
       "      <th>8</th>\n",
       "      <th>9</th>\n",
       "      <th>...</th>\n",
       "      <th>7661</th>\n",
       "      <th>7662</th>\n",
       "      <th>7663</th>\n",
       "      <th>7664</th>\n",
       "      <th>7665</th>\n",
       "      <th>7666</th>\n",
       "      <th>7667</th>\n",
       "      <th>7668</th>\n",
       "      <th>7669</th>\n",
       "      <th>7670</th>\n",
       "    </tr>\n",
       "    <tr>\n",
       "      <th>DOC_ID</th>\n",
       "      <th></th>\n",
       "      <th></th>\n",
       "      <th></th>\n",
       "      <th></th>\n",
       "      <th></th>\n",
       "      <th></th>\n",
       "      <th></th>\n",
       "      <th></th>\n",
       "      <th></th>\n",
       "      <th></th>\n",
       "      <th></th>\n",
       "      <th></th>\n",
       "      <th></th>\n",
       "      <th></th>\n",
       "      <th></th>\n",
       "      <th></th>\n",
       "      <th></th>\n",
       "      <th></th>\n",
       "      <th></th>\n",
       "      <th></th>\n",
       "      <th></th>\n",
       "    </tr>\n",
       "  </thead>\n",
       "  <tbody>\n",
       "    <tr>\n",
       "      <th>4844</th>\n",
       "      <td>ye</td>\n",
       "      <td>inde</td>\n",
       "      <td>agent</td>\n",
       "      <td>directori</td>\n",
       "      <td>verita</td>\n",
       "      <td>cd</td>\n",
       "      <td>unix</td>\n",
       "      <td>subdirectori</td>\n",
       "      <td>file</td>\n",
       "      <td>call</td>\n",
       "      <td>...</td>\n",
       "      <td>None</td>\n",
       "      <td>None</td>\n",
       "      <td>None</td>\n",
       "      <td>None</td>\n",
       "      <td>None</td>\n",
       "      <td>None</td>\n",
       "      <td>None</td>\n",
       "      <td>None</td>\n",
       "      <td>None</td>\n",
       "      <td>None</td>\n",
       "    </tr>\n",
       "    <tr>\n",
       "      <th>4727</th>\n",
       "      <td>problem</td>\n",
       "      <td>come</td>\n",
       "      <td>tri</td>\n",
       "      <td>instal</td>\n",
       "      <td>harddissssk</td>\n",
       "      <td>like</td>\n",
       "      <td>alreadi</td>\n",
       "      <td>mount</td>\n",
       "      <td>http</td>\n",
       "      <td>yahoo</td>\n",
       "      <td>...</td>\n",
       "      <td>None</td>\n",
       "      <td>None</td>\n",
       "      <td>None</td>\n",
       "      <td>None</td>\n",
       "      <td>None</td>\n",
       "      <td>None</td>\n",
       "      <td>None</td>\n",
       "      <td>None</td>\n",
       "      <td>None</td>\n",
       "      <td>None</td>\n",
       "    </tr>\n",
       "    <tr>\n",
       "      <th>5022</th>\n",
       "      <td>origin</td>\n",
       "      <td>messag</td>\n",
       "      <td>date</td>\n",
       "      <td>mon</td>\n",
       "      <td>aug</td>\n",
       "      <td>chad</td>\n",
       "      <td>norwood</td>\n",
       "      <td>sven</td>\n",
       "      <td>cc</td>\n",
       "      <td>subject</td>\n",
       "      <td>...</td>\n",
       "      <td>None</td>\n",
       "      <td>None</td>\n",
       "      <td>None</td>\n",
       "      <td>None</td>\n",
       "      <td>None</td>\n",
       "      <td>None</td>\n",
       "      <td>None</td>\n",
       "      <td>None</td>\n",
       "      <td>None</td>\n",
       "      <td>None</td>\n",
       "    </tr>\n",
       "    <tr>\n",
       "      <th>3504</th>\n",
       "      <td>inlin</td>\n",
       "      <td>folk</td>\n",
       "      <td>sever</td>\n",
       "      <td>major</td>\n",
       "      <td>internet</td>\n",
       "      <td>outag</td>\n",
       "      <td>morn</td>\n",
       "      <td>across</td>\n",
       "      <td>major</td>\n",
       "      <td>provid</td>\n",
       "      <td>...</td>\n",
       "      <td>None</td>\n",
       "      <td>None</td>\n",
       "      <td>None</td>\n",
       "      <td>None</td>\n",
       "      <td>None</td>\n",
       "      <td>None</td>\n",
       "      <td>None</td>\n",
       "      <td>None</td>\n",
       "      <td>None</td>\n",
       "      <td>None</td>\n",
       "    </tr>\n",
       "    <tr>\n",
       "      <th>3921</th>\n",
       "      <td>url</td>\n",
       "      <td>http</td>\n",
       "      <td>date</td>\n",
       "      <td>bath</td>\n",
       "      <td>chronicl</td>\n",
       "      <td>None</td>\n",
       "      <td>None</td>\n",
       "      <td>None</td>\n",
       "      <td>None</td>\n",
       "      <td>None</td>\n",
       "      <td>...</td>\n",
       "      <td>None</td>\n",
       "      <td>None</td>\n",
       "      <td>None</td>\n",
       "      <td>None</td>\n",
       "      <td>None</td>\n",
       "      <td>None</td>\n",
       "      <td>None</td>\n",
       "      <td>None</td>\n",
       "      <td>None</td>\n",
       "      <td>None</td>\n",
       "    </tr>\n",
       "  </tbody>\n",
       "</table>\n",
       "<p>5 rows × 7671 columns</p>\n",
       "</div>"
      ],
      "text/plain": [
       "           0       1      2          3            4      5        6     \\\n",
       "DOC_ID                                                                   \n",
       "4844         ye    inde  agent  directori       verita     cd     unix   \n",
       "4727    problem    come    tri     instal  harddissssk   like  alreadi   \n",
       "5022     origin  messag   date        mon          aug   chad  norwood   \n",
       "3504      inlin    folk  sever      major     internet  outag     morn   \n",
       "3921        url    http   date       bath     chronicl   None     None   \n",
       "\n",
       "                7      8        9     ...  7661  7662  7663  7664  7665  7666  \\\n",
       "DOC_ID                                ...                                       \n",
       "4844    subdirectori   file     call  ...  None  None  None  None  None  None   \n",
       "4727           mount   http    yahoo  ...  None  None  None  None  None  None   \n",
       "5022            sven     cc  subject  ...  None  None  None  None  None  None   \n",
       "3504          across  major   provid  ...  None  None  None  None  None  None   \n",
       "3921            None   None     None  ...  None  None  None  None  None  None   \n",
       "\n",
       "        7667  7668  7669  7670  \n",
       "DOC_ID                          \n",
       "4844    None  None  None  None  \n",
       "4727    None  None  None  None  \n",
       "5022    None  None  None  None  \n",
       "3504    None  None  None  None  \n",
       "3921    None  None  None  None  \n",
       "\n",
       "[5 rows x 7671 columns]"
      ]
     },
     "execution_count": 112,
     "metadata": {},
     "output_type": "execute_result"
    }
   ],
   "source": [
    "X_train.index.name=X_test.index.name=\"DOC_ID\"\n",
    "X_train.head()"
   ]
  },
  {
   "attachments": {},
   "cell_type": "markdown",
   "metadata": {},
   "source": [
    "### Sparse matrix for the trainig model\n"
   ]
  },
  {
   "cell_type": "code",
   "execution_count": null,
   "metadata": {},
   "outputs": [
    {
     "data": {
      "text/plain": [
       "pandas.core.indexes.base.Index"
      ]
     },
     "execution_count": 130,
     "metadata": {},
     "output_type": "execute_result"
    }
   ],
   "source": [
    "word_index=pd.Index(vocab.VOCAB_WORD)\n",
    "# word_index.get_loc(\"thu\")\n",
    "# word_index\n",
    "# type(word_index)"
   ]
  },
  {
   "cell_type": "code",
   "execution_count": null,
   "metadata": {},
   "outputs": [],
   "source": [
    "def make_sparse_matrix(df,indexed_words,labels):\n",
    "    nr_rows=df.shape[0]\n",
    "    nr_columns=df.shape[1]\n",
    "    word_set=set(indexed_words)\n",
    "    dict_list=[]\n",
    "    for i in range(nr_rows):\n",
    "        for j in range(nr_columns):\n",
    "            word=df.iat[i,j]\n",
    "            if word in word_set:\n",
    "                doc_id=df.index[i]\n",
    "                word_id=indexed_words.get_loc(word)\n",
    "                category=labels.at[doc_id]\n",
    "                item={\"LABEL\":category,\"DOC_ID\":doc_id,\"OCCURENCE\":1,\"WORD_ID\":word_id}\n",
    "                dict_list.append(item)\n",
    "    return pd.DataFrame(dict_list)"
   ]
  },
  {
   "cell_type": "code",
   "execution_count": null,
   "metadata": {},
   "outputs": [
    {
     "data": {
      "text/html": [
       "<div>\n",
       "<style scoped>\n",
       "    .dataframe tbody tr th:only-of-type {\n",
       "        vertical-align: middle;\n",
       "    }\n",
       "\n",
       "    .dataframe tbody tr th {\n",
       "        vertical-align: top;\n",
       "    }\n",
       "\n",
       "    .dataframe thead th {\n",
       "        text-align: right;\n",
       "    }\n",
       "</style>\n",
       "<table border=\"1\" class=\"dataframe\">\n",
       "  <thead>\n",
       "    <tr style=\"text-align: right;\">\n",
       "      <th></th>\n",
       "      <th>LABEL</th>\n",
       "      <th>DOC_ID</th>\n",
       "      <th>OCCURENCE</th>\n",
       "      <th>WORD_ID</th>\n",
       "    </tr>\n",
       "  </thead>\n",
       "  <tbody>\n",
       "    <tr>\n",
       "      <th>0</th>\n",
       "      <td>0</td>\n",
       "      <td>4844</td>\n",
       "      <td>1</td>\n",
       "      <td>265</td>\n",
       "    </tr>\n",
       "    <tr>\n",
       "      <th>1</th>\n",
       "      <td>0</td>\n",
       "      <td>4844</td>\n",
       "      <td>1</td>\n",
       "      <td>1243</td>\n",
       "    </tr>\n",
       "    <tr>\n",
       "      <th>2</th>\n",
       "      <td>0</td>\n",
       "      <td>4844</td>\n",
       "      <td>1</td>\n",
       "      <td>502</td>\n",
       "    </tr>\n",
       "    <tr>\n",
       "      <th>3</th>\n",
       "      <td>0</td>\n",
       "      <td>4844</td>\n",
       "      <td>1</td>\n",
       "      <td>308</td>\n",
       "    </tr>\n",
       "    <tr>\n",
       "      <th>4</th>\n",
       "      <td>0</td>\n",
       "      <td>4844</td>\n",
       "      <td>1</td>\n",
       "      <td>254</td>\n",
       "    </tr>\n",
       "  </tbody>\n",
       "</table>\n",
       "</div>"
      ],
      "text/plain": [
       "   LABEL  DOC_ID  OCCURENCE  WORD_ID\n",
       "0      0    4844          1      265\n",
       "1      0    4844          1     1243\n",
       "2      0    4844          1      502\n",
       "3      0    4844          1      308\n",
       "4      0    4844          1      254"
      ]
     },
     "execution_count": 123,
     "metadata": {},
     "output_type": "execute_result"
    }
   ],
   "source": [
    "sparse_train_df=make_sparse_matrix(X_train,word_index,y_train)\n",
    "sparse_train_df.head()"
   ]
  },
  {
   "attachments": {},
   "cell_type": "markdown",
   "metadata": {},
   "source": [
    "## Combine Occurencce using groupby()"
   ]
  },
  {
   "cell_type": "code",
   "execution_count": null,
   "metadata": {},
   "outputs": [
    {
     "data": {
      "text/html": [
       "<div>\n",
       "<style scoped>\n",
       "    .dataframe tbody tr th:only-of-type {\n",
       "        vertical-align: middle;\n",
       "    }\n",
       "\n",
       "    .dataframe tbody tr th {\n",
       "        vertical-align: top;\n",
       "    }\n",
       "\n",
       "    .dataframe thead th {\n",
       "        text-align: right;\n",
       "    }\n",
       "</style>\n",
       "<table border=\"1\" class=\"dataframe\">\n",
       "  <thead>\n",
       "    <tr style=\"text-align: right;\">\n",
       "      <th></th>\n",
       "      <th></th>\n",
       "      <th></th>\n",
       "      <th>OCCURENCE</th>\n",
       "    </tr>\n",
       "    <tr>\n",
       "      <th>DOC_ID</th>\n",
       "      <th>WORD_ID</th>\n",
       "      <th>LABEL</th>\n",
       "      <th></th>\n",
       "    </tr>\n",
       "  </thead>\n",
       "  <tbody>\n",
       "    <tr>\n",
       "      <th rowspan=\"5\" valign=\"top\">0</th>\n",
       "      <th>2</th>\n",
       "      <th>1</th>\n",
       "      <td>1</td>\n",
       "    </tr>\n",
       "    <tr>\n",
       "      <th>3</th>\n",
       "      <th>1</th>\n",
       "      <td>2</td>\n",
       "    </tr>\n",
       "    <tr>\n",
       "      <th>4</th>\n",
       "      <th>1</th>\n",
       "      <td>1</td>\n",
       "    </tr>\n",
       "    <tr>\n",
       "      <th>7</th>\n",
       "      <th>1</th>\n",
       "      <td>3</td>\n",
       "    </tr>\n",
       "    <tr>\n",
       "      <th>11</th>\n",
       "      <th>1</th>\n",
       "      <td>1</td>\n",
       "    </tr>\n",
       "  </tbody>\n",
       "</table>\n",
       "</div>"
      ],
      "text/plain": [
       "                      OCCURENCE\n",
       "DOC_ID WORD_ID LABEL           \n",
       "0      2       1              1\n",
       "       3       1              2\n",
       "       4       1              1\n",
       "       7       1              3\n",
       "       11      1              1"
      ]
     },
     "execution_count": 124,
     "metadata": {},
     "output_type": "execute_result"
    }
   ],
   "source": [
    "train_grouped=sparse_train_df.groupby([\"DOC_ID\",\"WORD_ID\",\"LABEL\"]).sum()\n",
    "train_grouped.head()"
   ]
  },
  {
   "cell_type": "code",
   "execution_count": null,
   "metadata": {},
   "outputs": [
    {
     "data": {
      "text/plain": [
       "'http'"
      ]
     },
     "execution_count": 125,
     "metadata": {},
     "output_type": "execute_result"
    }
   ],
   "source": [
    "vocab.at[0,\"VOCAB_WORD\"]"
   ]
  },
  {
   "cell_type": "code",
   "execution_count": null,
   "metadata": {},
   "outputs": [
    {
     "data": {
      "text/html": [
       "<div>\n",
       "<style scoped>\n",
       "    .dataframe tbody tr th:only-of-type {\n",
       "        vertical-align: middle;\n",
       "    }\n",
       "\n",
       "    .dataframe tbody tr th {\n",
       "        vertical-align: top;\n",
       "    }\n",
       "\n",
       "    .dataframe thead th {\n",
       "        text-align: right;\n",
       "    }\n",
       "</style>\n",
       "<table border=\"1\" class=\"dataframe\">\n",
       "  <thead>\n",
       "    <tr style=\"text-align: right;\">\n",
       "      <th></th>\n",
       "      <th>DOC_ID</th>\n",
       "      <th>WORD_ID</th>\n",
       "      <th>LABEL</th>\n",
       "      <th>OCCURENCE</th>\n",
       "    </tr>\n",
       "  </thead>\n",
       "  <tbody>\n",
       "    <tr>\n",
       "      <th>0</th>\n",
       "      <td>0</td>\n",
       "      <td>2</td>\n",
       "      <td>1</td>\n",
       "      <td>1</td>\n",
       "    </tr>\n",
       "    <tr>\n",
       "      <th>1</th>\n",
       "      <td>0</td>\n",
       "      <td>3</td>\n",
       "      <td>1</td>\n",
       "      <td>2</td>\n",
       "    </tr>\n",
       "    <tr>\n",
       "      <th>2</th>\n",
       "      <td>0</td>\n",
       "      <td>4</td>\n",
       "      <td>1</td>\n",
       "      <td>1</td>\n",
       "    </tr>\n",
       "    <tr>\n",
       "      <th>3</th>\n",
       "      <td>0</td>\n",
       "      <td>7</td>\n",
       "      <td>1</td>\n",
       "      <td>3</td>\n",
       "    </tr>\n",
       "    <tr>\n",
       "      <th>4</th>\n",
       "      <td>0</td>\n",
       "      <td>11</td>\n",
       "      <td>1</td>\n",
       "      <td>1</td>\n",
       "    </tr>\n",
       "  </tbody>\n",
       "</table>\n",
       "</div>"
      ],
      "text/plain": [
       "   DOC_ID  WORD_ID  LABEL  OCCURENCE\n",
       "0       0        2      1          1\n",
       "1       0        3      1          2\n",
       "2       0        4      1          1\n",
       "3       0        7      1          3\n",
       "4       0       11      1          1"
      ]
     },
     "execution_count": 131,
     "metadata": {},
     "output_type": "execute_result"
    }
   ],
   "source": [
    "train_grouped=train_grouped.reset_index()\n",
    "train_grouped.head()"
   ]
  },
  {
   "cell_type": "code",
   "execution_count": null,
   "metadata": {},
   "outputs": [
    {
     "data": {
      "text/plain": [
       "(258360, 4)"
      ]
     },
     "execution_count": 132,
     "metadata": {},
     "output_type": "execute_result"
    }
   ],
   "source": [
    "train_grouped.shape"
   ]
  },
  {
   "attachments": {},
   "cell_type": "markdown",
   "metadata": {},
   "source": [
    "## saving train data as txt file"
   ]
  },
  {
   "cell_type": "code",
   "execution_count": null,
   "metadata": {},
   "outputs": [],
   "source": [
    "np.savetxt(TRAINING_DATA_FILE,train_grouped,fmt=\"%d\")"
   ]
  },
  {
   "cell_type": "code",
   "execution_count": null,
   "metadata": {},
   "outputs": [],
   "source": [
    "sparse_test_df=make_sparse_matrix(X_test,word_index,y_test)"
   ]
  },
  {
   "cell_type": "code",
   "execution_count": null,
   "metadata": {},
   "outputs": [
    {
     "data": {
      "text/html": [
       "<div>\n",
       "<style scoped>\n",
       "    .dataframe tbody tr th:only-of-type {\n",
       "        vertical-align: middle;\n",
       "    }\n",
       "\n",
       "    .dataframe tbody tr th {\n",
       "        vertical-align: top;\n",
       "    }\n",
       "\n",
       "    .dataframe thead th {\n",
       "        text-align: right;\n",
       "    }\n",
       "</style>\n",
       "<table border=\"1\" class=\"dataframe\">\n",
       "  <thead>\n",
       "    <tr style=\"text-align: right;\">\n",
       "      <th></th>\n",
       "      <th>DOC_ID</th>\n",
       "      <th>WORD_ID</th>\n",
       "      <th>LABEL</th>\n",
       "      <th>OCCURENCE</th>\n",
       "    </tr>\n",
       "  </thead>\n",
       "  <tbody>\n",
       "    <tr>\n",
       "      <th>0</th>\n",
       "      <td>8</td>\n",
       "      <td>2</td>\n",
       "      <td>1</td>\n",
       "      <td>1</td>\n",
       "    </tr>\n",
       "    <tr>\n",
       "      <th>1</th>\n",
       "      <td>8</td>\n",
       "      <td>3</td>\n",
       "      <td>1</td>\n",
       "      <td>4</td>\n",
       "    </tr>\n",
       "    <tr>\n",
       "      <th>2</th>\n",
       "      <td>8</td>\n",
       "      <td>4</td>\n",
       "      <td>1</td>\n",
       "      <td>2</td>\n",
       "    </tr>\n",
       "    <tr>\n",
       "      <th>3</th>\n",
       "      <td>8</td>\n",
       "      <td>5</td>\n",
       "      <td>1</td>\n",
       "      <td>1</td>\n",
       "    </tr>\n",
       "    <tr>\n",
       "      <th>4</th>\n",
       "      <td>8</td>\n",
       "      <td>6</td>\n",
       "      <td>1</td>\n",
       "      <td>2</td>\n",
       "    </tr>\n",
       "  </tbody>\n",
       "</table>\n",
       "</div>"
      ],
      "text/plain": [
       "   DOC_ID  WORD_ID  LABEL  OCCURENCE\n",
       "0       8        2      1          1\n",
       "1       8        3      1          4\n",
       "2       8        4      1          2\n",
       "3       8        5      1          1\n",
       "4       8        6      1          2"
      ]
     },
     "execution_count": 137,
     "metadata": {},
     "output_type": "execute_result"
    }
   ],
   "source": [
    "test_grouped=sparse_test_df.groupby([\"DOC_ID\",\"WORD_ID\",\"LABEL\"]).sum()\n",
    "test_grouped=test_grouped.reset_index()\n",
    "test_grouped.head()"
   ]
  },
  {
   "cell_type": "code",
   "execution_count": null,
   "metadata": {},
   "outputs": [],
   "source": [
    "np.savetxt(TEST_DATA_FILE,test_grouped,fmt=\"%d\")"
   ]
  },
  {
   "cell_type": "code",
   "execution_count": null,
   "metadata": {},
   "outputs": [],
   "source": [
    "# train_grouped.DOC_ID.value_counts()\n",
    "train_docs_id=set(train_grouped.DOC_ID)\n",
    "test_docs_id=set(test_grouped.DOC_ID)"
   ]
  },
  {
   "cell_type": "code",
   "execution_count": null,
   "metadata": {},
   "outputs": [
    {
     "name": "stdout",
     "output_type": "stream",
     "text": [
      "4013\n",
      "1724\n"
     ]
    }
   ],
   "source": [
    "print(len(train_docs_id))\n",
    "print(len(test_docs_id))"
   ]
  },
  {
   "cell_type": "code",
   "execution_count": null,
   "metadata": {},
   "outputs": [
    {
     "data": {
      "text/plain": [
       "1739"
      ]
     },
     "execution_count": 151,
     "metadata": {},
     "output_type": "execute_result"
    }
   ],
   "source": [
    "len(X_test)"
   ]
  },
  {
   "cell_type": "code",
   "execution_count": null,
   "metadata": {},
   "outputs": [
    {
     "data": {
      "text/plain": [
       "{134, 179, 240, 274, 298, 339, 439, 471, 670, 734, 765, 945, 1544, 1670, 1700}"
      ]
     },
     "execution_count": 153,
     "metadata": {},
     "output_type": "execute_result"
    }
   ],
   "source": [
    "set(X_test.index.values)-test_docs_id"
   ]
  },
  {
   "cell_type": "code",
   "execution_count": null,
   "metadata": {},
   "outputs": [
    {
     "data": {
      "text/plain": [
       "'------=_NextPart_000_00A5_78C83A6B.A1543A16\\n\\nContent-Type: text/html; charset=\"iso-8859-1\"\\n\\nContent-Transfer-Encoding: base64\\n\\n\\n\\n\\n\\nMzU0NHRqVFIwLTM5NUZLa20zNjkyYUN6QjUtNDQ5cGVsMzANCjxodG1sPjxi\\n\\nb2R5IGxpbms9I0ZGRkYwMCB2bGluaz0jRkZGRjAwIGFsaW5rPSNGRkZGMDAg\\n\\ndGV4dD0jRkZGRjAwIGJnY29sb3I9IzAwMDAwMD4gPHRhYmxlIGJvcmRlckNv\\n\\nbG9yPSMwMDAwMDAgd2lkdGg9NjAwIGFsaWduPWNlbnRlciBiZ0NvbG9yPSM2\\n\\nNjk5MzMgYm9yZGVyPTM+PHRyPjx0ZCBhbGlnbj1taWRkbGU+PGZvbnQgZmFj\\n\\nZT1BcmlhbCxIZWx2ZXRpY2Esc2Fucy1zZXJpZj48YnI+IDxmb250IGNvbG9y\\n\\nPXdoaXRlIHNpemU9KzM+PGEgaHJlZj1odHRwOi8vd3d3Lnh4eG1hdGNoLm5l\\n\\ndC93ZXRiaXRzL2luZGV4Lmh0bT5XZXRiaXRzPC9hPjwvZm9udD48L2ZvbnQ+\\n\\nPGEgaHJlZj1odHRwOi8vd3d3Lnh4eG1hdGNoLm5ldC93ZXRiaXRzL2luZGV4\\n\\nLmh0bT4gPC9hPjxwPjxmb250IGZhY2U9QXJpYWwsSGVsdmV0aWNhLHNhbnMt\\n\\nc2VyaWYgY29sb3I9I2ZmZmYwMCBzaXplPTM+PGI+IEdvbGRlbiBTaG93ZXIg\\n\\nRXh0cmF2YWdhbnphPC9iPjwvZm9udD48Zm9udCBmYWNlPUFyaWFsLEhlbHZl\\n\\ndGljYSxzYW5zLXNlcmlmPjxicj4gPGEgaHJlZj1odHRwOi8vd3d3Lnh4eG1h\\n\\ndGNoLm5ldC93ZXRiaXRzL2luZGV4Lmh0bT4gPGZvbnQgY29sb3I9eWVsbG93\\n\\nIHNpemU9KzI+RU5URVIhPC9mb250PjwvYT48L3A+IDx0YWJsZSB3aWR0aD01\\n\\nMDAgYWxpZ249Y2VudGVyPjx0cj48dGQgYWxpZ249bWlkZGxlPjxmb250IGNv\\n\\nbG9yPXdoaXRlIHNpemU9KzM+VW5iZWxpZXZhYmxlIFNleCBBY3RzITwvZm9u\\n\\ndD48YnI+IDxhIGhyZWY9aHR0cDovL3d3dy54eHhtYXRjaC5uZXQvd2V0Yml0\\n\\ncy9pbmRleC5odG0+IDxmb250IGNvbG9yPXllbGxvdyBzaXplPSs0PlNoZSBD\\n\\nYW4gUGVlIEFsbCBEYXk8L2ZvbnQ+PC9hPjxicj4gPGZvbnQgY29sb3I9Ymxh\\n\\nY2sgc2l6ZT0rMj5Db2NrIGNyYXZpbmcgdGVlbnMgc3F1aXJtIGFyb3VuZCBj\\n\\nb3ZlcmVkIGluIHBlZSB3aXRoIGEgdGhyb2JiaW5nIGNvY2sgYnVyaWVkIHRv\\n\\nIHRoZSBoaWx0LiBTbGlwcGVyeSBhbmFsIHdob3JlcyBnZXR0aW5nIHdldCE8\\n\\nYnI+IDxmb250IHNpemU9KzMgZWxsb3c+U3ByZWFkICdlbSA8L2ZvbnQ+PC9m\\n\\nb250PiA8Zm9udCBjb2xvcj15ZWxsb3cgc2l6ZT0rMz5QZWU8L2ZvbnQ+PGZv\\n\\nbnQgY29sb3I9YmxhY2sgc2l6ZT0rMj48Zm9udCBjb2xvcj15ZWxsb3cgc2l6\\n\\nZT0rMz5naXJsITwvZm9udD48YnI+IDxhIGhyZWY9aHR0cDovL3d3dy54eHht\\n\\nYXRjaC5uZXQvd2V0Yml0cy9pbmRleC5odG0+IDxmb250IGNvbG9yPXllbGxv\\n\\ndyBzaXplPSs0PkVudGVyITwvZm9udD48L2E+PC9mb250PjwvdGQ+PC90cj4g\\n\\nPC90YWJsZT4gPHRhYmxlIHdpZHRoPTUwMCBhbGlnbj1jZW50ZXI+PHRyPjx0\\n\\nZCBhbGlnbj1taWRkbGU+PGZvbnQgY29sb3I9d2hpdGUgc2l6ZT0rMT5TZXgg\\n\\nY3JhemVkIHBlZWdpcmxzIHJpZGUgY29jayBhbGwgZGF5IHdoaWxlIHBpc3Np\\n\\nbmcgZm91bnRhaW5zIG9uIHRoZWlyIHBhcnRuZXJzLiBQZWVnaXJscyB0aGF0\\n\\nIGNhbid0IGdldCBlbm91Z2ggY3VtLCBzdWNraW5nIG9mZiBkaWNrIGFmdGVy\\n\\nIGRpY2suIEhvcm55IHNsdXRzIHNwcmVhZGluZyB0aGVtIGZvciBldmVyeSBU\\n\\nb20sIERpY2sgYW5kIENvY2sgdG8gY29tZSBpbiEgPC9mb250PjwvdGQ+PC90\\n\\ncj4gPC90YWJsZT4gPHRhYmxlIGJvcmRlckNvbG9yPWJsYWNrIGJvcmRlckNv\\n\\nbG9yRGFyaz1ibGFjayBhbGlnbj1jZW50ZXIgYm9yZGVyQ29sb3JMaWdodD1y\\n\\nZWQgYm9yZGVyPTI+PHRyPjx0ZCBhbGlnbj1taWRkbGUgd2lkdGg9MjAwPiA8\\n\\nYSBocmVmPWh0dHA6Ly93d3cueHh4bWF0Y2gubmV0L3dldGJpdHMvaW5kZXgu\\n\\naHRtPiA8Zm9udCBjb2xvcj15ZWxsb3cgc2l6ZT0rMT5VbHRyYS1IYXJkY29y\\n\\nZSBBY3Rpb24gPC9mb250PjwvYT48L3RkPjx0ZCBhbGlnbj1taWRkbGUgd2lk\\n\\ndGg9MjAwPiA8YSBocmVmPWh0dHA6Ly93d3cueHh4bWF0Y2gubmV0L3dldGJp\\n\\ndHMvaW5kZXguaHRtPiA8Zm9udCBjb2xvcj15ZWxsb3cgc2l6ZT0rMT5UZWVu\\n\\nYWdlIFBlZWdpcmxzIDwvZm9udD48L2E+PC90ZD48dGQgYWxpZ249bWlkZGxl\\n\\nIHdpZHRoPTIwMD4gPGEgaHJlZj1odHRwOi8vd3d3Lnh4eG1hdGNoLm5ldC93\\n\\nZXRiaXRzL2luZGV4Lmh0bT4gPGZvbnQgY29sb3I9eWVsbG93IHNpemU9KzE+\\n\\nV2lsZCBQZWUgUGFydGllcyA8L2ZvbnQ+PC9hPjwvdGQ+PC90cj48dHI+PHRk\\n\\nIGFsaWduPW1pZGRsZSB3aWR0aD0yMDA+IDxhIGhyZWY9aHR0cDovL3d3dy54\\n\\neHhtYXRjaC5uZXQvd2V0Yml0cy9pbmRleC5odG0+IDxmb250IGNvbG9yPXll\\n\\nbGxvdyBzaXplPSsxPkJpemFycmUgVmlkZW9zIDwvZm9udD48L2E+PC90ZD48\\n\\ndGQgYWxpZ249bWlkZGxlIHdpZHRoPTIwMD4gPGEgaHJlZj1odHRwOi8vd3d3\\n\\nLnh4eG1hdGNoLm5ldC93ZXRiaXRzL2luZGV4Lmh0bT4gPGZvbnQgY29sb3I9\\n\\neWVsbG93IHNpemU9KzE+SWxsZWdhbCBBY3Rpb24gPC9mb250PjwvYT48L3Rk\\n\\nPjx0ZCBhbGlnbj1taWRkbGUgd2lkdGg9MjAwPiA8YSBocmVmPWh0dHA6Ly93\\n\\nd3cueHh4bWF0Y2gubmV0L3dldGJpdHMvaW5kZXguaHRtPiA8Zm9udCBjb2xv\\n\\ncj15ZWxsb3cgc2l6ZT0rMT5IaWRkZW4gUGVlIENhbXMgPC9mb250PjwvYT48\\n\\nL3RkPjwvdHI+IDwvdGFibGU+PHA+PGJyPiA8YSBocmVmPWh0dHA6Ly93d3cu\\n\\neHh4bWF0Y2gubmV0L3dldGJpdHMvaW5kZXguaHRtPiA8Zm9udCBjb2xvcj15\\n\\nZWxsb3cgc2l6ZT0rMz5FbnRlciBXZXRiaXRzPC9mb250PjwvYT48YnI+PGJy\\n\\nPiAmbmJzcDs8L2ZvbnQ+PC90ZD48L3RyPiA8L3RhYmxlPjwvYm9keT48L2h0\\n\\nbWw+DQo1NDE4WlRRSTAtNjAyb0pUbzk3MDR0TXZJMC05MTZ1TktINjQyNEF0\\n\\nWUM0LTQ4NFVVY3UxMzU4T0VlQjItbDU3\\n\\n\\n'"
      ]
     },
     "execution_count": 155,
     "metadata": {},
     "output_type": "execute_result"
    }
   ],
   "source": [
    "data.MESSAGE[179]"
   ]
  },
  {
   "cell_type": "code",
   "execution_count": null,
   "metadata": {},
   "outputs": [
    {
     "data": {
      "text/plain": [
       "MESSAGE      ------=_NextPart_000_00A5_78C83A6B.A1543A16\\n\\...\n",
       "CATEGORY                                                     1\n",
       "FILE_NAME               00180.13a95a2542a0fd01ff24303561cca949\n",
       "Name: 179, dtype: object"
      ]
     },
     "execution_count": 156,
     "metadata": {},
     "output_type": "execute_result"
    }
   ],
   "source": [
    "data.loc[179]"
   ]
  },
  {
   "cell_type": "code",
   "execution_count": null,
   "metadata": {},
   "outputs": [],
   "source": []
  }
 ],
 "metadata": {
  "kernelspec": {
   "display_name": "Python 3",
   "language": "python",
   "name": "python3"
  },
  "language_info": {
   "codemirror_mode": {
    "name": "ipython",
    "version": 3
   },
   "file_extension": ".py",
   "mimetype": "text/x-python",
   "name": "python",
   "nbconvert_exporter": "python",
   "pygments_lexer": "ipython3",
   "version": "3.9.6"
  },
  "orig_nbformat": 4,
  "vscode": {
   "interpreter": {
    "hash": "0ce1555eb526f819a858f54e3bf5c0b25e24887766042b4d7a2a44ef1239ab78"
   }
  }
 },
 "nbformat": 4,
 "nbformat_minor": 2
}
